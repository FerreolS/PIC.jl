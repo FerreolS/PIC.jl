{
 "cells": [
  {
   "cell_type": "code",
   "execution_count": null,
   "metadata": {},
   "outputs": [],
   "source": [
    "#using Pkg;\n",
    "#Pkg.add(url=\"https://github.com/FerreolS/OptimPackNextGen.jl\",rev=\"verbose\")"
   ]
  },
  {
   "cell_type": "code",
   "execution_count": null,
   "metadata": {},
   "outputs": [],
   "source": [
    "include(\"../src/SphereIFSCalib.jl\")\n",
    "\n",
    "using TwoDimensional, Zygote, StatsBase, Plots, OptimPackNextGen, FITSIO, DelimitedFiles, Tables, DataFrames, Statistics\n",
    "#using HypothesisTests #contient ChisqTest\n",
    "\n",
    "plotly()"
   ]
  },
  {
   "cell_type": "markdown",
   "metadata": {},
   "source": [
    "### Constantes"
   ]
  },
  {
   "cell_type": "code",
   "execution_count": null,
   "metadata": {},
   "outputs": [],
   "source": [
    "# wavelengths\n",
    "const λ1 = 987.72e-9# laser 1 \n",
    "const λ2 = 1123.71e-9# laser 2 \n",
    "const λ3 = 1309.37e-9# laser 3\n",
    "#const λ4 = 1545.10e-9  # laser 4  \n",
    "λlaser = [λ1,λ2,λ3]\n",
    "λ0 = mean(λlaser);# reference\n",
    "wavelengthrange = LinRange(850e-9,1600e-9,50); # coarse wavelength range of the instrument"
   ]
  },
  {
   "cell_type": "markdown",
   "metadata": {},
   "source": [
    "## Fit global sur l'ensemble des lenslets:"
   ]
  },
  {
   "cell_type": "markdown",
   "metadata": {},
   "source": [
    "On definit les parametres qui servent a creer le modele:\n",
    "a l'amplitude maximale des spots gaussien,\n",
    "fwhm la largeur a mi hauteur des spots,\n",
    "cx les coefficients polynomiaux le long de l'axe x,\n",
    "cy les coefficients polynomiaux le long de l'axe y"
   ]
  },
  {
   "cell_type": "markdown",
   "metadata": {},
   "source": [
    "### Exemple"
   ]
  },
  {
   "cell_type": "code",
   "execution_count": null,
   "metadata": {},
   "outputs": [],
   "source": [
    "#Bbox of the lenslet: box autour d'un set de 3 gaussiennes\n",
    "bbox = BoundingBox(xmin=1012, ymin=1048, xmax=1018, ymax=1092);\n",
    "a0 = [300.0 , 400.0, 500.0];\n",
    "fwhm0 = [2.0, 2.0 , 2.0];\n",
    "#affichage d'un exemple de trois gaussiennes avec la bbox sur les donnees reelles:\n",
    "exemple = FITS(\"/home/user/stage/HR_4796-HD_95086/IFS_calib_wave_corrected.fits\")\n",
    "data= read(exemple[1]);\n",
    "exempleData = data[1013:1017 , 1050:1090]\n",
    "heatmap(exempleData, title = \"Lenslet correspondant a la bbox initiale (exemple)\", aspect_ratio = 1)"
   ]
  },
  {
   "cell_type": "markdown",
   "metadata": {},
   "source": [
    "On peut deduire de cette image la taille de la bounding box d'une lenslet: hauteur 4 pixels, largeur 40 pixels.\n",
    "Il manque les coeff C0 pour pouvoir fiter les gaussiennes, qu'on recupere dans des fichiers txt"
   ]
  },
  {
   "cell_type": "markdown",
   "metadata": {},
   "source": [
    "### 1 lecture des fichiers txt"
   ]
  },
  {
   "cell_type": "markdown",
   "metadata": {},
   "source": [
    "On veut recuperer en sortie de fonction la premiere colonne (c0, coef a l'ordre 0, soit le centre de la lenslet).\n",
    "\n",
    "x(λ) = cx0 + cx1*((λ-λ0)/λ0) + cx2*((λ-λ0)/λ0)²\n",
    "\n",
    "y(λ) = cy0 + cy1*((λ-λ0)/λ0) + cy2*((λ-λ0)/λ0)²\n",
    "\n",
    "On donne ici λ en metre, dans le code Matlab λ est en micronmetre. Il faut donc normaliser et convertir les coefficients c1 et c2. "
   ]
  },
  {
   "cell_type": "code",
   "execution_count": null,
   "metadata": {},
   "outputs": [],
   "source": [
    "coeffx = readdlm(\"/home/user/stage/HR_4796-HD_95086/Calibration_wave_spec/coef_pol_x.txt\", header = false)\n",
    "cx0 = coeffx[:,1];\n",
    "cx1 = coeffx[:,2]*λ0*1e6;\n",
    "cx2 = coeffx[:,3]*λ0^2*1e12;\n",
    "\n",
    "coeffy = readdlm(\"/home/user/stage/HR_4796-HD_95086/Calibration_wave_spec/coef_pol_y.txt\", header = false)\n",
    "cy0 = coeffy[:,1];\n",
    "cy1 = coeffy[:,2]*λ0*1e6;\n",
    "cy2 = coeffy[:,3]*λ0^2*1e12;"
   ]
  },
  {
   "cell_type": "markdown",
   "metadata": {},
   "source": [
    "### Histogrammes"
   ]
  },
  {
   "cell_type": "code",
   "execution_count": null,
   "metadata": {},
   "outputs": [],
   "source": [
    "h1 = histogram(cx1, title = \"cx1\");\n",
    "h2 = histogram(cx2, title = \"cx2\");\n",
    "plot(h1, h2, legend = false)"
   ]
  },
  {
   "cell_type": "code",
   "execution_count": null,
   "metadata": {},
   "outputs": [],
   "source": [
    "h3 = histogram(cy1, title = \"cy1\");\n",
    "h4 = histogram(cy2, title = \"cy2\");\n",
    "plot(h3, h4, legend = false)"
   ]
  },
  {
   "cell_type": "markdown",
   "metadata": {},
   "source": [
    "### 2 ouvrir et trouver positions dans l'image brute"
   ]
  },
  {
   "cell_type": "markdown",
   "metadata": {},
   "source": [
    "1/ IFS_sim_wave.fits: on ouvre le modele, qui a peu de BP, donc les fit des lenslets seront bons. f5 = FITS(\"/home/user/Pictures/IFS_sim_wave.fits\")\n",
    "\n",
    "2/ IFS_calib_wave_corrected: \"vrai\" fichier de depart (a comparer avec 1/ eventuellement)"
   ]
  },
  {
   "cell_type": "code",
   "execution_count": null,
   "metadata": {},
   "outputs": [],
   "source": [
    "laserData = FITS(\"/home/user/stage/HR_4796-HD_95086/IFS_calib_wave_corrected.fits\", \"r\");"
   ]
  },
  {
   "cell_type": "code",
   "execution_count": null,
   "metadata": {},
   "outputs": [],
   "source": [
    "#Read the data or a subset thereof from disk, and save it in a pre-allocated output array A.\n",
    "A =zeros(2048,2048); #pre-allocate matrix A\n",
    "read!(laserData[1], A); #data"
   ]
  },
  {
   "cell_type": "code",
   "execution_count": null,
   "metadata": {},
   "outputs": [],
   "source": [
    "close(laserData);"
   ]
  },
  {
   "cell_type": "code",
   "execution_count": null,
   "metadata": {},
   "outputs": [],
   "source": [
    "#Constantes\n",
    "ainit = [300. , 400. , 500.];\n",
    "fwhminit = [2.0, 2.0 , 2.0];\n",
    "laser =  LaserModel(λlaser,ainit,fwhminit);\n",
    "Cinit = zeros(2,laser.nλ);\n",
    "\n",
    "#BoundingBox\n",
    "largeur = 4;\n",
    "hauteur = 40;\n",
    "dxmin = round(Int, largeur/2);\n",
    "dxmax = round(Int, largeur/2);\n",
    "dymin = 21#round(Int, hauteur/2);\n",
    "dymax = 13#round(Int, hauteur/2);\n",
    "mcx1 = median(cx1);\n",
    "mcy1 = median(cy1);\n",
    "mcx2 = median(cx2);\n",
    "mcy2 = median(cy2);\n",
    "\n",
    "N = length(cx0) #Nombre de lenslet (18908)\n",
    "\n",
    "valid = (round.(cx0 .- dxmin).>0) .&  (round.(cx0 .+ dxmax).<2048) .&  \n",
    "(round.(cy0 .- dymin).>0) .&  (round.(cy0 .+ dymax).<2048);"
   ]
  },
  {
   "cell_type": "code",
   "execution_count": null,
   "metadata": {},
   "outputs": [],
   "source": [
    "#Initialiser tableaux de resultats avec possibilite d'avoir valeurs \"missing\"\n",
    "atab = Array{Union{Float64,Missing}}(missing,3,N); #zeros(3,N);\n",
    "fwhmtab = Array{Union{Float64,Missing}}(missing,3,N); #zeros(3,N);\n",
    "ctab = Array{Union{Float64,Missing}}(missing,2,3,N); #zeros(2,3,N);\n",
    "lmodtab = Array{Union{LensletModel,Missing}}(missing,N); #Array{LensletModel}(undef,N);"
   ]
  },
  {
   "cell_type": "code",
   "execution_count": null,
   "metadata": {},
   "outputs": [],
   "source": [
    "atab"
   ]
  },
  {
   "cell_type": "markdown",
   "metadata": {},
   "source": [
    "### Lenslet aleatoire sans prise en compte des pixels defectueux\n",
    "xmin = cx0[i,1]-largeur/2 lenslet, ymin = cy0[i,1]-hauteur/2 lenslet\n",
    "\n",
    "xmax = cx0[i,1]+largeur/2 lenslet, ymax = cy0[i,1]+hauteur/2 lenslet\n",
    "\n",
    "Remarque: centre de l'image 0 = 1025x1025 pixel, donc il faut ajouter 1025 a xmin et xmax, ymin et ymax "
   ]
  },
  {
   "cell_type": "code",
   "execution_count": null,
   "metadata": {},
   "outputs": [],
   "source": [
    "i = 5\n",
    "#Initialisation \n",
    "cx0i = cx0[i,1] .+1025; #centre de la lenslet\n",
    "cy0i = cy0[i,1] .+1025;\n",
    "\n",
    "xmin=cx0i -dxmin;\n",
    "xmax=cx0i +dxmax;\n",
    "ymin=cy0i -dymin;\n",
    "ymax=cy0i +dymax; \n",
    "\n",
    "bbox = round(Int, BoundingBox(xmin, xmax, ymin, ymax)); \n",
    "\n",
    "lmodtab[i] = LensletModel(λ0,laser.nλ-1, bbox); #contient le model pour chaque lenslet\n",
    "\n",
    "Cinit = zeros(2,laser.nλ);\n",
    "Cinit[1:2,1:3] = [ [cx0i mcx1 mcx2]; [cy0i mcy1 mcy2] ];\n",
    "\n",
    "#Fit du polynome pour chaque lenslet: optimisation\n",
    "ldata = view(A, bbox);\n",
    "lkl = LikelihoodIFS(lmodtab[i], laser, ldata);\n",
    "cost(x::Vector{Float64}) = lkl(x)::Float64;\n",
    "xinit = vcat([ainit[:],fwhminit[:],Cinit[:]]...);\n",
    "xopt = vmlmb(cost, xinit; verb=50, maxeval=500);\n",
    "\n",
    "#Sauvegarde des valeurs des parametres du modele dans des vecteurs\n",
    "#ce qu'on veut garder: lmod sous forme de vecteur, 1 modele de lenslet par lenslet\n",
    "(aopt,fwhmopt,copt) = (xopt[1:(laser.nλ)],xopt[(laser.nλ+1):(2*laser.nλ)],reshape(xopt[(2*laser.nλ+1):(4*laser.nλ)],2,:));\n",
    "atab[:,i] = aopt;\n",
    "fwhmtab[:,i] = fwhmopt;\n",
    "ctab[:,:,i]  = copt;\n"
   ]
  },
  {
   "cell_type": "code",
   "execution_count": null,
   "metadata": {},
   "outputs": [],
   "source": [
    "#Affichage\n",
    "x_axis = range(bbox.xmin, bbox.xmax, length = bbox.xmax-bbox.xmin+1);\n",
    "y_axis = range(bbox.ymin, bbox.ymax, length = bbox.ymax-bbox.ymin+1);"
   ]
  },
  {
   "cell_type": "code",
   "execution_count": null,
   "metadata": {},
   "outputs": [],
   "source": [
    "plt = scatter([cx0i], [cy0i], color=[\"gold\"], label = \"centre Anthony\");\n",
    "heatmap!(plt,x_axis, y_axis,  transpose(ldata), title = \"lenslet 5\", \n",
    "    xlabel = \"x\", ylabel = \"y\", xrange = [xmin-10,xmax+10], aspect_ratio = 1, legend = :bottomright)"
   ]
  },
  {
   "cell_type": "code",
   "execution_count": null,
   "metadata": {},
   "outputs": [],
   "source": [
    "#Point de depart de l'optimiseur\n",
    "UpdateDispModel(lmodtab[i].dmodel, Cinit);\n",
    "UpdateLaserModel(laser,ainit,fwhminit);\n",
    "limageinit = LensletLaserImage(lmodtab[i],laser)\n",
    "plt = scatter([cx0i], [cy0i], color=[\"red\"], label = \"Initialisation\");\n",
    "heatmap!(plt, x_axis, y_axis,  transpose(limageinit), title = \"Initialisation\", \n",
    "    xlabel = \"x\", ylabel = \"y\", xrange = [xmin-10,xmax+10], aspect_ratio = 1, legend = :bottomright)"
   ]
  },
  {
   "cell_type": "code",
   "execution_count": null,
   "metadata": {},
   "outputs": [],
   "source": [
    "#Point d'arrivee de l'optimiseur\n",
    "UpdateDispModel(lmodtab[i].dmodel, copt);\n",
    "UpdateLaserModel(laser,aopt,fwhmopt);\n",
    "limageopt = LensletLaserImage(lmodtab[i],laser)\n",
    "plt = scatter( [cx0i;copt[1,1]], [cy0i;copt[2,1]], color = [\"red\" , \"blue\"], \n",
    "    lab = [\"initialisation\" \"optimisation\"]);\n",
    "heatmap!(plt, x_axis, y_axis,  transpose(limageopt), title = \"Point d'arrivee de l'optimiseur\", \n",
    "    xlabel = \"x\", ylabel = \"y\", xrange = [xmin-10,xmax+10], aspect_ratio = 1, legend = :bottomright)"
   ]
  },
  {
   "cell_type": "code",
   "execution_count": null,
   "metadata": {},
   "outputs": [],
   "source": [
    "#Residus\n",
    "heatmap(x_axis, y_axis, transpose(ldata .- limageopt), title = \"Residus sans precision\", \n",
    "    xlabel = \"x\", ylabel = \"y\", xrange = [xmin-10,xmax+10], aspect_ratio = 1 )"
   ]
  },
  {
   "cell_type": "code",
   "execution_count": null,
   "metadata": {},
   "outputs": [],
   "source": [
    "@show(ainit,aopt,);\n",
    "\n",
    "@show(fwhminit,fwhmopt);\n",
    "\n",
    "@show(Cinit,copt);"
   ]
  },
  {
   "cell_type": "markdown",
   "metadata": {},
   "source": [
    "### Lenslet aleatoire avec prise en compte des pixels defectueux"
   ]
  },
  {
   "cell_type": "code",
   "execution_count": null,
   "metadata": {},
   "outputs": [],
   "source": [
    "badpix = Float64.(read(FITS(\"/home/user/stage/HR_4796-HD_95086/IFS_BP_corrected.fits\")[1]));"
   ]
  },
  {
   "cell_type": "code",
   "execution_count": null,
   "metadata": {},
   "outputs": [],
   "source": [
    "i = 5\n",
    "#Initialisation \n",
    "cx0i = cx0[i,1] .+1025; #centre de la lenslet\n",
    "cy0i = cy0[i,1] .+1025;\n",
    "\n",
    "xmin=cx0i .-dxmin;\n",
    "xmax=cx0i .+dxmax;\n",
    "ymin=cy0i .-dymin;\n",
    "ymax=cy0i .+dymax; \n",
    "\n",
    "bbox = round(Int, BoundingBox(xmin, xmax, ymin, ymax)); \n",
    "\n",
    "lmodtab[i] = LensletModel(λ0,laser.nλ-1, bbox); #contient le model pour chaque lenslet\n",
    "\n",
    "Cinit = zeros(2,laser.nλ);\n",
    "Cinit[1:2,1:3] = [ [cx0i mcx1 mcx2]; [cy0i mcy1 mcy2] ];\n",
    "\n",
    "\n",
    "\n",
    "#Fit du polynome pour chaque lenslet: optimisation\n",
    "ldata = view(A, bbox);\n",
    "badpixview = view(badpix,bbox)\n",
    "lkl = LikelihoodIFS(lmodtab[i], laser, ldata, badpixview);\n",
    "cost(x::Vector{Float64}) = lkl(x)::Float64;\n",
    "xinit = vcat([ainit[:],fwhminit[:],Cinit[:]]...);\n",
    "xopt = vmlmb(cost, xinit; verb=50, maxeval=500);\n",
    "\n",
    "#Sauvegarde des valeurs des parametres du modele dans des vecteurs\n",
    "#ce qu'on veut garder: lmod sous forme de vecteur, 1 modele de lenslet par lenslet\n",
    "(aopt,fwhmopt,copt) = (xopt[1:(laser.nλ)],xopt[(laser.nλ+1):(2*laser.nλ)],reshape(xopt[(2*laser.nλ+1):(4*laser.nλ)],2,:));\n",
    "atab[:,i] = aopt;\n",
    "fwhmtab[:,i] = fwhmopt;\n",
    "ctab[:,:,i]  = copt;"
   ]
  },
  {
   "cell_type": "code",
   "execution_count": null,
   "metadata": {},
   "outputs": [],
   "source": [
    "#Affichage\n",
    "x_axis = range(bbox.xmin, bbox.xmax, length = bbox.xmax-bbox.xmin+1);\n",
    "y_axis = range(bbox.ymin, bbox.ymax, length = bbox.ymax-bbox.ymin+1);"
   ]
  },
  {
   "cell_type": "code",
   "execution_count": null,
   "metadata": {},
   "outputs": [],
   "source": [
    "plt = scatter([cx0i], [cy0i], color=[\"gold\"], label = \"centre Anthony\");\n",
    "heatmap!(plt,x_axis, y_axis,  transpose(ldata), title = \"lenslet 5\", \n",
    "    xlabel = \"x\", ylabel = \"y\", xrange = [xmin-10,xmax+10], aspect_ratio = 1,  legend = :bottomright)"
   ]
  },
  {
   "cell_type": "code",
   "execution_count": null,
   "metadata": {},
   "outputs": [],
   "source": [
    "#Point de depart de l'optimiseur\n",
    "UpdateDispModel(lmodtab[i].dmodel, Cinit);\n",
    "UpdateLaserModel(laser,ainit,fwhminit);\n",
    "limageinit = LensletLaserImage(lmodtab[i],laser)\n",
    "plt = scatter([cx0i], [cy0i], color=[\"red\"], label = \"Initialisation\");\n",
    "heatmap!(plt, x_axis, y_axis, transpose(limageinit), title = \"Initialisation\", xrange = [xmin-10,xmax+10], aspect_ratio = 1, legend = :bottomright)"
   ]
  },
  {
   "cell_type": "code",
   "execution_count": null,
   "metadata": {},
   "outputs": [],
   "source": [
    "#Point d'arrivee de l'optimiseur\n",
    "UpdateDispModel(lmodtab[i].dmodel, copt);\n",
    "UpdateLaserModel(laser,aopt,fwhmopt);\n",
    "limageopt = LensletLaserImage(lmodtab[i],laser)\n",
    "plt = scatter( [cx0i;copt[1,1]], [cy0i;copt[2,1]], color = [\"red\" , \"blue\"], lab = [\"initialisation\" \"optimisation\"]);\n",
    "heatmap!(plt, x_axis, y_axis, transpose(limageopt), title = \"Point d'arrivee de l'optimiseur avec precision\", xrange = [xmin-10,xmax+10], aspect_ratio = 1, legend = :bottomright)"
   ]
  },
  {
   "cell_type": "code",
   "execution_count": null,
   "metadata": {},
   "outputs": [],
   "source": [
    "#Residus\n",
    "heatmap(x_axis, y_axis, transpose(ldata .- limageopt), title = \"Residus avec precision\", xlabel = \"x\", ylabel = \"y\", xrange = [xmin-10,xmax+10], aspect_ratio = 1)"
   ]
  },
  {
   "cell_type": "code",
   "execution_count": null,
   "metadata": {},
   "outputs": [],
   "source": [
    "@show(ainit,aopt,);\n",
    "\n",
    "@show(fwhminit,fwhmopt);\n",
    "\n",
    "@show(Cinit,copt);"
   ]
  },
  {
   "cell_type": "markdown",
   "metadata": {},
   "source": [
    "### Ensemble des lenslet"
   ]
  },
  {
   "cell_type": "code",
   "execution_count": null,
   "metadata": {},
   "outputs": [],
   "source": [
    "collect(1:N)[valid] #indice des lenslet valides"
   ]
  },
  {
   "cell_type": "code",
   "execution_count": null,
   "metadata": {},
   "outputs": [],
   "source": [
    "@time for i in collect(1:N)[valid]\n",
    "    #Initialisation\n",
    "    cx0i = cx0[i,1] .+1025; #centre de la lenslet\n",
    "    cy0i = cy0[i,1] .+1025;\n",
    "\n",
    "    xmin=cx0i-dxmin;\n",
    "    xmax=cx0i+dxmax;\n",
    "    ymin=cy0i-dymin;\n",
    "    ymax=cy0i+dymax; \n",
    "    if ymax>2048\n",
    "        continue\n",
    "    end \n",
    "    bbox = round(Int, BoundingBox(xmin, xmax, ymin, ymax));\n",
    "    \n",
    "    lmodtab[i] = LensletModel(λ0,laser.nλ-1, bbox); #contient le model pour chaque lenslet\n",
    "    \n",
    "    Cinit = [ [cx0i mcx1 mcx2]; [cy0i mcy1 mcy2] ]; #[1:2,1:3]\n",
    "    \n",
    "    #Fit du polynome pour chaque lenslet: optimisation\n",
    "    ldata = view(A, bbox);    #lenslet laser data\n",
    "    #badpixview = view(badpix,bbox)\n",
    "    lkl = LikelihoodIFS(lmodtab[i], laser, ldata);#rajouter carte BP: badpixview\n",
    "    cost(x::Vector{Float64}) = lkl(x);\n",
    "    xinit = vcat([ainit[:],fwhminit[:],Cinit[:]]...);\n",
    "    \n",
    "    try #The try/catch statement allows for Exceptions to be tested for. much slower than using conditional branching\n",
    "        xopt = vmlmb(cost, xinit; verb=false, maxeval=100);\n",
    "\n",
    "        #Sauvegarde des valeurs des parametres du modele dans des vecteurs\n",
    "        #ce qu'on veut garder: lmod sous forme de vecteur, 1 modele de lenslet par lenslet\n",
    "        (aopt,fwhmopt,copt) = (xopt[1:(laser.nλ)],xopt[(laser.nλ+1):(2*laser.nλ)],reshape(xopt[(2*laser.nλ+1):(4*laser.nλ)],2,:));\n",
    "        atab[:,i] = aopt\n",
    "        fwhmtab[:,i] = fwhmopt\n",
    "        ctab[:,:,i]  = copt\n",
    "    catch       #the symbol following catch will always be interpreted as a name for the exception\n",
    "        continue\n",
    "    end\n",
    "        \n",
    "    print(i)\n",
    "end\n"
   ]
  },
  {
   "cell_type": "code",
   "execution_count": null,
   "metadata": {},
   "outputs": [],
   "source": [
    "atab2 = collect(skipmissing(atab))\n",
    "amp = FITS(\"amplitude.fits\", \"w\");\n",
    "write(amp, atab2)  # Write a new image extension with the data\n",
    "close(amp)"
   ]
  },
  {
   "cell_type": "code",
   "execution_count": null,
   "metadata": {},
   "outputs": [],
   "source": [
    "fwhmtab2 = collect(skipmissing(fwhmtab))\n",
    "fwhm = FITS(\"fwhm.fits\", \"w\");\n",
    "write(fwhm, fwhmtab2)  # Write a new image extension with the data\n",
    "close(fwhm)"
   ]
  },
  {
   "cell_type": "code",
   "execution_count": null,
   "metadata": {},
   "outputs": [],
   "source": [
    "ctab2 = collect(skipmissing(ctab))\n",
    "coeff = FITS(\"coeff.fits\", \"w\");\n",
    "write(coeff, ctab2)  # Write a new image extension with the data\n",
    "close(coeff)"
   ]
  },
  {
   "cell_type": "code",
   "execution_count": null,
   "metadata": {},
   "outputs": [],
   "source": [
    "#Affichage\n",
    "x_axis = range(bbox.xmin, bbox.xmax, length = bbox.xmax-bbox.xmin+1);\n",
    "y_axis = range(bbox.ymin, bbox.ymax, length = bbox.ymax-bbox.ymin+1);"
   ]
  },
  {
   "cell_type": "code",
   "execution_count": null,
   "metadata": {},
   "outputs": [],
   "source": [
    "plt = scatter([cx0i], [cy0i], color=[\"gold\"], label = \"centre Anthony\");\n",
    "heatmap!(plt,x_axis, y_axis,  transpose(ldata), xlabel = \"x\", ylabel = \"y\", xrange = [xmin-10, xmax+10], aspect_ratio = 1, legend = :bottomright)"
   ]
  },
  {
   "cell_type": "code",
   "execution_count": null,
   "metadata": {},
   "outputs": [],
   "source": [
    "#Point de depart de l'optimiseur\n",
    "UpdateDispModel(lmodtab[i].dmodel, Cinit);\n",
    "UpdateLaserModel(laser,ainit,fwhminit);\n",
    "limageinit = LensletLaserImage(lmodtab[i],laser)\n",
    "plt = scatter([cx0i], [cy0i], color=[\"red\"], label = \"Initialisation\");\n",
    "heatmap!(plt, x_axis, y_axis,  transpose(limageinit), title = \"Initialisation\", xlabel = \"x\", ylabel = \"y\", xrange = [xmin-10,xmax+10], aspect_ratio = 1, legend = :bottomright)"
   ]
  },
  {
   "cell_type": "code",
   "execution_count": null,
   "metadata": {},
   "outputs": [],
   "source": [
    "#Point d'arrivee de l'optimiseur\n",
    "UpdateDispModel(lmodtab[i].dmodel, copt);\n",
    "UpdateLaserModel(laser,aopt,fwhmopt);\n",
    "limageopt = LensletLaserImage(lmodtab[i],laser)\n",
    "plt = scatter( [cx0i;copt[1,1]], [cy0i;copt[2,1]], color = [\"red\" , \"blue\"], lab = [\"initialisation\" \"optimisation\"]);\n",
    "heatmap!(plt, x_axis, y_axis,  transpose(limageopt), title = \"Point d'arrivee de l'optimiseur\", xlabel = \"x\", ylabel = \"y\", xrange = [xmin-20,xmax+20], aspect_ratio = 1, legend = :bottomright)"
   ]
  },
  {
   "cell_type": "code",
   "execution_count": null,
   "metadata": {},
   "outputs": [],
   "source": [
    "#Residus\n",
    "heatmap(x_axis, y_axis, transpose(ldata .- limageopt), title = \"Residus sans precision\", xlabel = \"x\", ylabel = \"y\", xrange = [xmin-10,xmax+10], aspect_ratio = 1)"
   ]
  },
  {
   "cell_type": "markdown",
   "metadata": {},
   "source": [
    "## 3 affichage"
   ]
  },
  {
   "cell_type": "markdown",
   "metadata": {},
   "source": [
    "### Test avec donnees lamp\n",
    "Permet de verifier si la bbox es convenable (si spectre est complet ou decoupee ou pas sur quelques lenslet)"
   ]
  },
  {
   "cell_type": "code",
   "execution_count": null,
   "metadata": {},
   "outputs": [],
   "source": [
    "lamp = FITS(\"/home/user/stage/HR_4796-HD_95086/Calibration_wave_spec/IFS_sim_spec.fits\", \"r\")\n",
    "B = zeros(2048,2048);\n",
    "data = read!(lamp[1], B);"
   ]
  },
  {
   "cell_type": "code",
   "execution_count": null,
   "metadata": {},
   "outputs": [],
   "source": [
    "i = 5\n",
    "\n",
    "xmin=(cx0[i,1] .-dxmin) .+1026;\n",
    "xmax=(cx0[i,1] .+dxmax) .+1026;\n",
    "ymin=(cy0[i,1] .-dymin) .+1024;\n",
    "ymax=(cy0[i,1] .+dymax) .+1024;\n",
    "\n",
    "bbox = round(Int, BoundingBox(xmin, xmax, ymin, ymax));\n",
    "\n",
    "x_axis = range(bbox.xmin, bbox.xmax, length = bbox.xmax-bbox.xmin+1);\n",
    "y_axis = range(bbox.ymin, bbox.ymax, length = bbox.ymax-bbox.ymin+1);\n",
    "\n",
    "plt = scatter(cx0[1:10,1], cx0[1:10,1])\n",
    "ldata = view(B,bbox);\n",
    "heatmap(y_axis, x_axis, ldata, title = \"Exemple du spectre d'une lenslet au centre\")\n"
   ]
  },
  {
   "cell_type": "code",
   "execution_count": null,
   "metadata": {},
   "outputs": [],
   "source": [
    "#toute l'image\n",
    "bbox = BoundingBox(1, 2048, 1, 2048);\n",
    "x_axis = range(bbox.xmin, bbox.xmax, length = bbox.xmax-bbox.xmin+1);\n",
    "y_axis = range(bbox.ymin, bbox.ymax, length = bbox.ymax-bbox.ymin+1);\n",
    "plt = scatter(cx0[:,1], cy0[:,1])\n",
    "heatmap!(plt,x_axis, y_axis,  transpose(data), title = \"IFS_sim_spec.fits\")"
   ]
  },
  {
   "cell_type": "code",
   "execution_count": null,
   "metadata": {},
   "outputs": [],
   "source": [
    "f6 = FITS(\"/home/user/stage/HR_4796-HD_95086/IFS_calib_spec_corrected.fits\", \"r\"); #donnees lamp\n",
    "B =zeros(2048,2048); #pre-allocate matrix A  Array{Float64}(undef,2048,2048)\n",
    "read!(f6[1], B);\n",
    "bbox = BoundingBox(xmin=1013, xmax=1017, ymin=1050, ymax=1088);\n",
    "ldata = view(B,bbox); # ex lenslet au centre de l'image [1012:1018, 1048:1092]\n",
    "p1 = heatmap(ldata, title = \"Exemple du spectre d'une lenslet au centre\")\n",
    "\n",
    "\n",
    "f7 = FITS(\"/home/user/stage/HR_4796-HD_95086/IFS_calib_spec_corrected.fits\", \"r\"); #donnees lamp\n",
    "C =zeros(2048,2048); #pre-allocate matrix A  Array{Float64}(undef,2048,2048)\n",
    "read!(f7[1], C);\n",
    "bbox = BoundingBox(xmin=214, xmax=218, ymin=272, ymax=311);\n",
    "ldata = view(C,bbox); \n",
    "p2 = heatmap(ldata, title = \"Exemple 1 du spectre d'une lenslet en peripherie\")\n",
    "\n",
    "\n",
    "f8 = FITS(\"/home/user/stage/HR_4796-HD_95086/IFS_calib_spec_corrected.fits\", \"r\"); #donnees lamp\n",
    "D =zeros(2048,2048); #pre-allocate matrix A  Array{Float64}(undef,2048,2048)\n",
    "read!(f7[1], D);\n",
    "bbox = BoundingBox(xmin=1501, xmax=1505, ymin=1574, ymax=1613);\n",
    "ldata = view(D,bbox); \n",
    "p3 = heatmap(ldata, title = \"Exemple 2 du spectre d'une lenslet en peripherie\")\n",
    "\n",
    "\n",
    "plot(p1, p2, p3, legend = false, layout = (3, 1), aspect_ratio = 1)"
   ]
  },
  {
   "cell_type": "markdown",
   "metadata": {},
   "source": [
    "On voit que le spectre n'est pas decoupe."
   ]
  },
  {
   "cell_type": "code",
   "execution_count": null,
   "metadata": {},
   "outputs": [],
   "source": [
    "#test\n",
    "plt = scatter(cx0[1:10,1] .+200, cy0[1:10,1] .+400)\n",
    "heatmap!(plt,x_axis, y_axis,  transpose(data), title = \"IFS_sim_spec.fits\")"
   ]
  },
  {
   "cell_type": "markdown",
   "metadata": {},
   "source": [
    "Methode 1: tracer des histogrammes de tous les coeff, visualisation des outliers. Ajustement d'une gaussienne, calcul de la moyenne de la variance, ce qui est superieur a 3σ est sorti.\n",
    "\n",
    "Methode 2: test statistique par rapport au guess si methode 1 marche pas. Histogramme des valeurs de χ2"
   ]
  },
  {
   "cell_type": "code",
   "execution_count": null,
   "metadata": {},
   "outputs": [],
   "source": [
    "h5 = histogram(atab)\n",
    "h6 = histogram(fwhmtab)\n",
    "h7 = histogram(ctab)\n",
    "plot(h5, h6, h7, legend = false)"
   ]
  },
  {
   "cell_type": "code",
   "execution_count": null,
   "metadata": {},
   "outputs": [],
   "source": [
    "#Statistics\n",
    "@show std(aopt);\n",
    "@show std(fwhmopt);\n",
    "@show std(copt);"
   ]
  },
  {
   "cell_type": "code",
   "execution_count": null,
   "metadata": {},
   "outputs": [],
   "source": [
    "@show var(aopt);\n",
    "@show var(fwhmopt);\n",
    "@show var(copt);"
   ]
  },
  {
   "cell_type": "code",
   "execution_count": null,
   "metadata": {},
   "outputs": [],
   "source": [
    "lmod.dmodel.(λlaser)\n",
    "heatmap(clamp.(ldata,0,1500), title = \"Fit laser\")"
   ]
  },
  {
   "cell_type": "code",
   "execution_count": null,
   "metadata": {},
   "outputs": [],
   "source": [
    "for i in 14957:14970\n",
    "    #Initialisation\n",
    "    cx0i = cx0[i,1] .+1025;\n",
    "    cy0i = cy0[i,1] .+1025;\n",
    "\n",
    "    xmin=cx0i-dxmin;\n",
    "    xmax=cx0i+dxmax;\n",
    "    ymin=cy0i-dymin;\n",
    "    ymax=cy0i+dymax; \n",
    "    if ymax>2048\n",
    "        continue\n",
    "    end  \n",
    "    bbox = round(Int, BoundingBox(xmin, xmax, ymin, ymax));\n",
    "    \n",
    "    lmodtab[i] = LensletModel(λ0,laser.nλ-1, bbox); #contient le model pour chaque lenslet\n",
    "     \n",
    "    Cinit = [ [cx0i mcx1 mcx2]; [cy0i mcy1 mcy2] ];\n",
    "    \n",
    "    #Fit du polynome pour chaque lenslet: optimisation\n",
    "    ldata = view(A, bbox);    #lenslet laser data\n",
    "    lkl = LikelihoodIFS(lmodtab[i], laser, ldata);#rajouter carte BP\n",
    "    cost(x::Vector{Float64}) = lkl(x);\n",
    "    xinit = vcat([ainit[:],fwhminit[:],Cinit[:]]...);\n",
    "    try\n",
    "        xopt = vmlmb(cost, xinit; verb=false, maxeval=500); #verb=50\n",
    "\n",
    "        #Sauvegarde des valeurs des parametres du modele dans des vecteurs\n",
    "        (aopt,fwhmopt,copt) = (xopt[1:(laser.nλ)],xopt[(laser.nλ+1):(2*laser.nλ)],reshape(xopt[(2*laser.nλ+1):(4*laser.nλ)],2,:));\n",
    "        atab[:,i] = aopt\n",
    "        fwhmtab[:,i] = fwhmopt\n",
    "        ctab[:,:,i]  = copt\n",
    "    catch\n",
    "        continue\n",
    "    end\n",
    "    print(i)\n",
    "end\n"
   ]
  }
 ],
 "metadata": {
  "kernelspec": {
   "display_name": "Julia 1.5.3",
   "language": "julia",
   "name": "julia-1.5"
  },
  "language_info": {
   "file_extension": ".jl",
   "mimetype": "application/julia",
   "name": "julia",
   "version": "1.5.3"
  }
 },
 "nbformat": 4,
 "nbformat_minor": 4
}
