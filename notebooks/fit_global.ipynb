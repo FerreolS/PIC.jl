{
 "cells": [
  {
   "cell_type": "code",
   "execution_count": null,
   "metadata": {},
   "outputs": [],
   "source": [
    "#using Pkg;\n",
    "#Pkg.add(url=\"https://github.com/FerreolS/OptimPackNextGen.jl\",rev=\"verbose\")"
   ]
  },
  {
   "cell_type": "code",
   "execution_count": null,
   "metadata": {},
   "outputs": [],
   "source": [
    "include(\"../src/SphereIFSCalib.jl\")\n",
    "\n",
    "using TwoDimensional, Zygote, StatsBase, Plots, OptimPackNextGen, FITSIO, DelimitedFiles, Tables, DataFrames\n",
    "using HypothesisTests\n",
    "\n",
    "plotly()"
   ]
  },
  {
   "cell_type": "markdown",
   "metadata": {},
   "source": [
    "### Constantes"
   ]
  },
  {
   "cell_type": "code",
   "execution_count": null,
   "metadata": {},
   "outputs": [],
   "source": [
    "# wavelengths\n",
    "const λ1 = 987.72e-9# laser 1 \n",
    "const λ2 = 1123.71e-9# laser 2 \n",
    "const λ3 = 1309.37e-9# laser 3\n",
    "#const λ4 = 1545.10e-9  # laser 4  \n",
    "λlaser = [λ1,λ2,λ3]\n",
    "λ0 = mean(λlaser);# reference\n",
    "wavelengthrange = LinRange(850e-9,1600e-9,50); # coarse wavelength range of the instrument"
   ]
  },
  {
   "cell_type": "markdown",
   "metadata": {},
   "source": [
    "## Fit global sur l'ensemble des lenslets:"
   ]
  },
  {
   "cell_type": "markdown",
   "metadata": {},
   "source": [
    "On definit les parametres qui servent a creer le modele  "
   ]
  },
  {
   "cell_type": "code",
   "execution_count": null,
   "metadata": {},
   "outputs": [],
   "source": [
    "#Bbox of the lenslet: box autour d'un set de 3 gaussiennes\n",
    "bbox = BoundingBox(xmin=1012, ymin=1048, xmax=1018, ymax=1092);\n",
    "a0 = [300.0 , 400.0, 500.0];\n",
    "fwhm0 = [2.0, 2.0 , 2.0];\n",
    "\n",
    "#affichage d'un exemple de trois gaussiennes avec la bbox sur les donnees reelles:\n",
    "f3 = FITS(\"/home/user/stage/HR_4796-HD_95086/IFS_calib_wave_corrected.fits\")\n",
    "data= read(f3[1]);\n",
    "ldata = data[1012:1018 , 1048:1092]\n",
    "heatmap(ldata, title = \"Lenslet correspondant a la bbox initiale (exemple)\")\n",
    "\n",
    "#il manque les coeff C0 pour pouvoir fiter les gaussiennes, qu'on recupere dans des fichiers txt"
   ]
  },
  {
   "cell_type": "markdown",
   "metadata": {},
   "source": [
    "### 1 lecture des fichiers txt"
   ]
  },
  {
   "cell_type": "markdown",
   "metadata": {},
   "source": [
    "On veut recuperer en sortie de fonction la premiere colonne (c0, coef a l'ordre 0, soit le centre de la lenslet).\n",
    "\n",
    "x(λ) = cx0 + cx1*((λ-λ0)/λ0) + cx2*((λ-λ0)/λ0)^2\n",
    "\n",
    "y(λ) = cy0 + cy1*((λ-λ0)/λ0) + cy2*((λ-λ0)/λ0)^2"
   ]
  },
  {
   "cell_type": "code",
   "execution_count": null,
   "metadata": {},
   "outputs": [],
   "source": [
    "coeffx = readdlm(\"/home/user/stage/HR_4796-HD_95086/Calibration_wave_spec/coef_pol_x.txt\", header = false)\n",
    "cx0 = coeffx[:,1];\n",
    "#cx1 = coeffx[:,2];\n",
    "#cx2 = coeffx[:,3];\n",
    "\n",
    "coeffy = readdlm(\"/home/user/stage/HR_4796-HD_95086/Calibration_wave_spec/coef_pol_y.txt\", header = false)\n",
    "cy0 = coeffy[:,1];\n",
    "#cy1 = coeffy[:,2];\n",
    "#cy2 = coeffy[:,3];\n",
    "\n",
    "#round.(Int, cx0); #conversion de float en int\n",
    "#round.(Int, cy0);"
   ]
  },
  {
   "cell_type": "code",
   "execution_count": null,
   "metadata": {},
   "outputs": [],
   "source": [
    "typeof(cx0)"
   ]
  },
  {
   "cell_type": "markdown",
   "metadata": {},
   "source": [
    "### 2 ouvrir et trouver positions dans l'image brute"
   ]
  },
  {
   "cell_type": "code",
   "execution_count": null,
   "metadata": {},
   "outputs": [],
   "source": [
    "#1/ IFS_sim_wave.fits: on ouvre le modele, qui a peu de BP, donc les fit des lenslets seront bons. f5 = FITS(\"/home/user/Pictures/IFS_sim_wave.fits\");\n",
    "#2/ IFS_calib_wave_corrected: \"vrai\" fichier de depart (a comparer avec 1/ eventuellement)\n",
    "f5 = FITS(\"/home/user/stage/HR_4796-HD_95086/IFS_calib_wave_corrected.fits\", \"r\");"
   ]
  },
  {
   "cell_type": "code",
   "execution_count": null,
   "metadata": {},
   "outputs": [],
   "source": [
    "#Read the data or a subset thereof from disk, and save it in a pre-allocated output array A.\n",
    "A = Array{Float64}(undef,2048,2048); #pre-allocate matrix A\n",
    "read!(f5[1], A);\n",
    "#print(A)"
   ]
  },
  {
   "cell_type": "code",
   "execution_count": null,
   "metadata": {},
   "outputs": [],
   "source": [
    "A"
   ]
  },
  {
   "cell_type": "code",
   "execution_count": null,
   "metadata": {},
   "outputs": [],
   "source": [
    "close(f5);"
   ]
  },
  {
   "cell_type": "code",
   "execution_count": null,
   "metadata": {
    "scrolled": true
   },
   "outputs": [],
   "source": [
    "#On parcours les lenslets\n",
    "nb_fit = 5 #test sur quelques lenslets\n",
    "for i=1:nb_fit #i: numero de la bbox\n",
    "    #Initialisation\n",
    "    #xmin = cx0[i,1]-largeur lenslet, ymin = cy0[i,1]-hauteur lenslet\n",
    "    #xmax = cx0[i,1]+largeur lenslet, ymax = cy0[i,1]+hauteur lenslet\n",
    "    bbox = BoundingBox(xmin=round.(Int, cx0[i,1])-4,  ymin=round.(Int, cy0[i,1])-22 , xmax=round.(Int, cx0[i,1])+4 , ymax=round.(Int, cy0[i,1])+22 ); #decalage de la bbox avec le fit  \n",
    "    ainit = [300. , 400. , 500.];\n",
    "    fwhminit = [2.0, 2.0 , 2.0];\n",
    "    laser =  LaserModel(λlaser,ainit,fwhminit);\n",
    "    lenslet = LensletModel(λ0,laser.nλ-1,round(bbox));\n",
    "    lmod = LensletModel(λ0,laser.nλ-1,bbox);\n",
    "    Cinit = zeros(2,laser.nλ);\n",
    "    Cinit[1:2,1:2] = [ [cy0[i,1] 45]; [cx0[i,1] 22] ]; #C0[1:2,1:3] =[ [cy0[i,1] cy1[i,2] cy2[i,3]]; [cx0[i,1] cx1[i,2] cx2[i,3]] ]  \n",
    "    UpdateDispModel(lmod.dmodel,Cinit); #Update the coefficients of the DispModel.\n",
    "    UpdateLaserModel(laser,ainit,fwhminit); #Update the amplitude and width of the DispModel.\n",
    "    \n",
    "    #Fit du polynome pour chaque lenslet: optimisation\n",
    "    ldata = view(A, bbox);\n",
    "    xinit = vcat([ainit[:],fwhminit[:],Cinit[:]]...);\n",
    "    lkl = LikelihoodIFS(lenslet,laser,ldata); #view(A,lenslet.bbox));\n",
    "    xopt = vmlmb(likelihood, xinit; verb=50); #penser a rajouter la precision quand on a la carte des BP: view(precision,lenslet.bbox)\n",
    "    \n",
    "    #Sauvegarde des valeurs des parametres du modele dans des vecteurs\n",
    "    #ce qu'on veut garder: lmod sous forme de vecteur, 1 modele de lenslet par lenslet\n",
    "    (aopt,fwhmopt,copt) = (xopt[1:(laser.nλ)],xopt[(laser.nλ+1):(2*laser.nλ)],reshape(xopt[(2*laser.nλ+1):(4*laser.nλ)],2,:));\n",
    "    aopt[i] = aopt;\n",
    "    fwhm[i] = fwhmopt;\n",
    "    copt[i] = copt; \n",
    "    UpdateDispModel(lmod.dmodel, copt);\n",
    "    UpdateLaserModel(laser,aopt,fwhmopt);\n",
    "end\n"
   ]
  },
  {
   "cell_type": "markdown",
   "metadata": {},
   "source": [
    "Warning: ajouter un flag de qualité (bon/mauvais ajustements)\n",
    "\n",
    "Methode 1: tracer des histogrammes de tous les coeff, visualisation des outliers. Ajustement d'une gaussienne, calcul de la moyenne de la variance, ce qui est superieur a 3σ est sorti.\n",
    "\n",
    "Methode 2: test statistique par rapport au guess si methode 1 marche pas. Histogramme des valeurs de χ2"
   ]
  },
  {
   "cell_type": "markdown",
   "metadata": {},
   "source": [
    "### 3 affichage"
   ]
  },
  {
   "cell_type": "code",
   "execution_count": null,
   "metadata": {},
   "outputs": [],
   "source": [
    "#loi de dispersion\n",
    "wxy0 = lmod.dmodel.(wavelengthrange);\n",
    "(wx0,wy0) = collect.( zip(wxy0...));"
   ]
  },
  {
   "cell_type": "code",
   "execution_count": null,
   "metadata": {},
   "outputs": [],
   "source": [
    "lmod.dmodel.(λlaser) \n",
    "ldata = view(A, bbox);\n",
    "#heatmap(ldata, title = \"Fit laser\") #1/ pour IFS_sim_wave.fits\n",
    "heatmap(clamp.(ldata,0,1500), title = \"Fit laser\")\n",
    "plot!(wy0,wx0; label=\"dispersion law\")"
   ]
  },
  {
   "cell_type": "code",
   "execution_count": null,
   "metadata": {},
   "outputs": [],
   "source": [
    "@show(ainit,aopt);\n",
    "\n",
    "@show(fwhminit,fwhmopt);\n",
    "\n",
    "@show(cinit,copt);"
   ]
  },
  {
   "cell_type": "code",
   "execution_count": null,
   "metadata": {},
   "outputs": [],
   "source": [
    "#Point de depart de l'optimiseur\n",
    "UpdateDispModel(lmod.dmodel, cinit);\n",
    "UpdateLaserModel(laser,ainit,fwhminit);\n",
    "limageinit = LensletLaserImage(lmod,laser)\n",
    "\n",
    "#heatmap(limageinit, title = \"Initialisation\")"
   ]
  },
  {
   "cell_type": "code",
   "execution_count": null,
   "metadata": {},
   "outputs": [],
   "source": [
    "#Point d'arrivee de l'optimiseur\n",
    "UpdateDispModel(lmod.dmodel, copt);\n",
    "UpdateLaserModel(laser,aopt,fwhmopt);\n",
    "limageopt = LensletLaserImage(lmod,laser)\n",
    "\n",
    "#heatmap(limageopt, title = \"Point d'arrivee de l'optimiseur\")\n"
   ]
  },
  {
   "cell_type": "code",
   "execution_count": null,
   "metadata": {},
   "outputs": [],
   "source": [
    "#Residus\n",
    "#heatmap( ldata .- limageopt, title = \"Residus\")"
   ]
  }
 ],
 "metadata": {
  "kernelspec": {
   "display_name": "Julia 1.5.3",
   "language": "julia",
   "name": "julia-1.5"
  },
  "language_info": {
   "file_extension": ".jl",
   "mimetype": "application/julia",
   "name": "julia",
   "version": "1.5.3"
  }
 },
 "nbformat": 4,
 "nbformat_minor": 4
}
