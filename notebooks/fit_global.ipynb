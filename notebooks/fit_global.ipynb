{
 "cells": [
  {
   "cell_type": "code",
   "execution_count": null,
   "metadata": {},
   "outputs": [],
   "source": [
    "#using Pkg;\n",
    "#Pkg.add(url=\"https://github.com/FerreolS/OptimPackNextGen.jl\",rev=\"verbose\")"
   ]
  },
  {
   "cell_type": "code",
   "execution_count": null,
   "metadata": {},
   "outputs": [],
   "source": [
    "include(\"../src/SphereIFSCalib.jl\")\n",
    "\n",
    "using TwoDimensional, Zygote, StatsBase, Plots, OptimPackNextGen, FITSIO, DelimitedFiles, Tables, DataFrames\n",
    "using HypothesisTests\n",
    "plotly()"
   ]
  },
  {
   "cell_type": "markdown",
   "metadata": {},
   "source": [
    "### Constantes"
   ]
  },
  {
   "cell_type": "code",
   "execution_count": null,
   "metadata": {},
   "outputs": [],
   "source": [
    "# wavelengths\n",
    "const λ1 = 987.72e-9# laser 1 \n",
    "const λ2 = 1123.71e-9# laser 2 \n",
    "const λ3 = 1309.37e-9# laser 3\n",
    "#const λ4 = 1545.10e-9  # laser 4  \n",
    "λlaser = [λ1,λ2,λ3]\n",
    "λ0 = mean(λlaser);# reference\n",
    "wavelengthrange = LinRange(850e-9,1600e-9,50); # coarse wavelength range of the instrument"
   ]
  },
  {
   "cell_type": "markdown",
   "metadata": {},
   "source": [
    "## Ensemble des lenslets:"
   ]
  },
  {
   "cell_type": "code",
   "execution_count": null,
   "metadata": {},
   "outputs": [],
   "source": [
    "#Bbox of the lenslet: box autour d'un set de 3 gaussiennes\n",
    "bbox = BoundingBox(xmin=1012, ymin=1048, xmax=1018, ymax=1092);\n",
    "\n",
    "a0 = [300.0 , 400.0, 500.0];\n",
    "fwhm0 = [2.0, 2.0 , 2.0];\n",
    "\n",
    "#il manque les coeff C0 pour pouvoir generer le modele"
   ]
  },
  {
   "cell_type": "markdown",
   "metadata": {},
   "source": [
    "### 1 lecture des fichiers txt"
   ]
  },
  {
   "cell_type": "markdown",
   "metadata": {},
   "source": [
    "On veut recuperer en sortie de fonction la premiere colonne (c0, soit le centre de la lenslet). Plus tard, ce sera l'ensemble du fichier pour traiter le cas broadlamp."
   ]
  },
  {
   "cell_type": "code",
   "execution_count": null,
   "metadata": {},
   "outputs": [],
   "source": [
    "coeffx = readdlm(\"/home/user/stage/HR_4796-HD_95086/Calibration_wave_spec/coef_pol_x.txt\", header = false)\n",
    "cx0 = coeffx[:,1];\n",
    "#cx1 = f[:,2];\n",
    "#cx2 = f[:,3];\n",
    "\n",
    "coeffy = readdlm(\"/home/user/stage/HR_4796-HD_95086/Calibration_wave_spec/coef_pol_y.txt\", header = false)\n",
    "cy0 = coeffy[:,1];\n",
    "#cy1 = cy[:,2];\n",
    "#cy2 = cy[:,3];\n",
    "\n",
    "#round.(Int, cx0); #conversion de float en int\n",
    "#round.(Int, cy0);"
   ]
  },
  {
   "cell_type": "markdown",
   "metadata": {},
   "source": [
    "### 2 ouvrir et trouver positions dans l'image brute"
   ]
  },
  {
   "cell_type": "code",
   "execution_count": null,
   "metadata": {},
   "outputs": [],
   "source": [
    "#1/ IFS_sim_wave.fits: on ouvre le modele, qui a peu de BP, donc les fit des lenslets seront bons. f5 = FITS(\"/home/user/Pictures/IFS_sim_wave.fits\");\n",
    "#2/ IFS_calib_wave_corrected: \"vrai\" fichier de depart\n",
    "f5 = FITS(\"/home/user/Pictures/IFS_calib_wave_corrected.fits\", \"r\");"
   ]
  },
  {
   "cell_type": "code",
   "execution_count": null,
   "metadata": {},
   "outputs": [],
   "source": [
    "#Read the data or a subset thereof from disk, and save it in a pre-allocated output array A.\n",
    "A = Array{Float64}(undef,2048,2048); #pre-allocate matrix A\n",
    "read!(f5[1], A);"
   ]
  },
  {
   "cell_type": "code",
   "execution_count": null,
   "metadata": {},
   "outputs": [],
   "source": [
    "close(f5);"
   ]
  },
  {
   "cell_type": "code",
   "execution_count": null,
   "metadata": {},
   "outputs": [],
   "source": [
    "#On parcours les lenslets\n",
    "laser =  LaserModel(λlaser,a0,fwhm0);\n",
    "lmod = LensletModel(λ0,laser.nλ-1,bbox);\n",
    "\n",
    "nb_fit = 5 #test sur quelques lenslets\n",
    "for i=1:nb_fit \n",
    "    C0 = zeros(2,laser.nλ)\n",
    "    C0[1:2,1:2] = [ [cy0[i,1] 45]; [cx0[i,1] 22] ]\n",
    "    UpdateDispModel(lmod.dmodel,C0) #Update the coefficients  of the DispModel.\n",
    "    \n",
    "    laser =  LaserModel(λlaser,a0,fwhm0)\n",
    "    lenslet = LensletModel(λ0,laser.nλ-1,round(bbox))\n",
    "\n",
    "    wxyinit = lmod.dmodel.(wavelengthrange)\n",
    "    (wxinit,wyinit) = collect.( zip(wxyinit...))\n",
    "end\n"
   ]
  },
  {
   "cell_type": "code",
   "execution_count": null,
   "metadata": {},
   "outputs": [],
   "source": [
    "#loi de dispersion\n",
    "wxy0 = lmod.dmodel.(wavelengthrange);\n",
    "(wx0,wy0) = collect.( zip(wxy0...));"
   ]
  },
  {
   "cell_type": "code",
   "execution_count": null,
   "metadata": {},
   "outputs": [],
   "source": [
    "lmod.dmodel.(λlaser) \n",
    "ldata = view(A, bbox);"
   ]
  },
  {
   "cell_type": "markdown",
   "metadata": {},
   "source": [
    "### 3 affichage"
   ]
  },
  {
   "cell_type": "code",
   "execution_count": null,
   "metadata": {},
   "outputs": [],
   "source": [
    "#heatmap(ldata, title = \"Fit laser\")\n",
    "heatmap(clamp.(A,0,1500), title = \"Fit laser\")\n",
    "plot!(wy0,wx0; label=\"dispersion law\")"
   ]
  },
  {
   "cell_type": "code",
   "execution_count": null,
   "metadata": {},
   "outputs": [],
   "source": [
    "#Vecteur: optimisation plus rapide car les trois coefficients a traiter sont donnes en meme temps\n",
    "function  likelihood(x::Vector{Float64}) \n",
    "    (a,fwhm,c) = (x[1:(laser.nλ)],x[(laser.nλ+1):(2*laser.nλ)],reshape(x[(2*laser.nλ+1):(4*laser.nλ)],2,:));\n",
    "    UpdateDispModel(lmod.dmodel, c);\n",
    "    UpdateLaserModel(laser,a,fwhm);\n",
    "    return sum((ldata .- LensletLaserImage(lmod,laser)).^2) # multiplier par carte des BP pour ne pas les prendre en compte dans le fit\n",
    "end"
   ]
  },
  {
   "cell_type": "code",
   "execution_count": null,
   "metadata": {},
   "outputs": [],
   "source": [
    "x0 = vcat([a0[:],fwhm0[:],C0[:] ]...) #concatenation de a0, fwhm0 et C0\n",
    "\n",
    "@show cost = likelihood(x0)\n",
    "∇cost = gradient(likelihood,x0);"
   ]
  },
  {
   "cell_type": "markdown",
   "metadata": {},
   "source": [
    "### Optimisation"
   ]
  },
  {
   "cell_type": "code",
   "execution_count": null,
   "metadata": {},
   "outputs": [],
   "source": [
    "#Parametres d'initialisation\n",
    "ainit = [300.0 , 400.0, 500.0];#a0  .+ (rand(Float64,laser.nλ) .- 0.5);\n",
    "fwhminit = [2.0, 2.0 , 2.0]; #fwhm0  .+ (rand(Float64,laser.nλ) .- 2);\n",
    "cinit = zeros(2,laser.nλ)\n",
    "cinit[1:2,1:3] = [[ 4.0 0 0]; [21 -80 0]] \n",
    "\n",
    "#UpdateDispModel(lmod.dmodel, cinit);\n",
    "#UpdateLaserModel(laser,ainit,fwhminit);\n",
    "\n",
    "laser =  LaserModel(λlaser,a0,fwhm0)\n",
    "lenslet = LensletModel(λ0,laser.nλ-1,round(bbox))\n",
    "\n",
    "wxyinit = lmod.dmodel.(wavelengthrange)\n",
    "(wxinit,wyinit) = collect.( zip(wxyinit...))\n",
    "\n",
    "xinit = vcat([ainit[:],fwhminit[:],cinit[:]]...)\n",
    "\n",
    "∇cost = gradient(likelihood,xinit )\n",
    "\n",
    "lkl = LikelihoodIFS(lenslet,laser,view(data,lenslet.bbox))\n",
    "xopt = vmlmb(lkl, xinit; verb=50);"
   ]
  },
  {
   "cell_type": "code",
   "execution_count": null,
   "metadata": {},
   "outputs": [],
   "source": [
    "#Parametres d'optimisation\n",
    "(aopt,fwhmopt,copt) = (xopt[1:(laser.nλ)],xopt[(laser.nλ+1):(2*laser.nλ)],reshape(xopt[(2*laser.nλ+1):(4*laser.nλ)],2,:));\n",
    "UpdateDispModel(lmod.dmodel, copt);\n",
    "UpdateLaserModel(laser,aopt,fwhmopt);"
   ]
  },
  {
   "cell_type": "code",
   "execution_count": null,
   "metadata": {},
   "outputs": [],
   "source": [
    "@show(ainit,aopt);\n",
    "\n",
    "@show(fwhminit,fwhmopt);\n",
    "\n",
    "@show(cinit,copt);"
   ]
  },
  {
   "cell_type": "code",
   "execution_count": null,
   "metadata": {},
   "outputs": [],
   "source": [
    "#Point de depart de l'optimiseur\n",
    "UpdateDispModel(lmod.dmodel, cinit);\n",
    "UpdateLaserModel(laser,ainit,fwhminit);\n",
    "limageinit = LensletLaserImage(lmod,laser)\n",
    "\n",
    "#heatmap(limageinit, title = \"Initialisation\")"
   ]
  },
  {
   "cell_type": "code",
   "execution_count": null,
   "metadata": {},
   "outputs": [],
   "source": [
    "#Point d'arrivee de l'optimiseur\n",
    "UpdateDispModel(lmod.dmodel, copt);\n",
    "UpdateLaserModel(laser,aopt,fwhmopt);\n",
    "limageopt = LensletLaserImage(lmod,laser)\n",
    "\n",
    "#heatmap(limageopt, title = \"Point d'arrivee de l'optimiseur\")\n"
   ]
  },
  {
   "cell_type": "code",
   "execution_count": null,
   "metadata": {},
   "outputs": [],
   "source": [
    "#Residus\n",
    "#heatmap( ldata .- limageopt, title = \"Residus\")"
   ]
  },
  {
   "cell_type": "markdown",
   "metadata": {},
   "source": [
    "### 4 sauvegarder output (position)"
   ]
  },
  {
   "cell_type": "markdown",
   "metadata": {},
   "source": [
    "ce qu'on veut garder: lmod sous forme de vecteur, 1 modele de lenslet par lenslet"
   ]
  },
  {
   "cell_type": "code",
   "execution_count": null,
   "metadata": {},
   "outputs": [],
   "source": [
    "(aopt,fwhmopt,copt) = (xopt[1:(laser.nλ)],xopt[(laser.nλ+1):(2*laser.nλ)],reshape(xopt[(2*laser.nλ+1):(4*laser.nλ)],2,:));"
   ]
  },
  {
   "cell_type": "markdown",
   "metadata": {},
   "source": [
    "Ajouter un flag de qualité (bon/mauvais ajustements)\n",
    "Histogramme des valeurs de χ2, pour voir si on peut enlever des outliers\n",
    "Histogramme des parametres du fits (a, fwhm, c)"
   ]
  },
  {
   "cell_type": "code",
   "execution_count": null,
   "metadata": {},
   "outputs": [],
   "source": [
    "#Si loi trop eloignee, envoyer un warning"
   ]
  },
  {
   "cell_type": "code",
   "execution_count": null,
   "metadata": {},
   "outputs": [],
   "source": [
    "#hypothèse nulle H0:\n",
    "\n",
    "ChisqTest(lmod)"
   ]
  },
  {
   "cell_type": "markdown",
   "metadata": {},
   "source": [
    "### Critère de réjection des mauvais ajustement"
   ]
  },
  {
   "cell_type": "code",
   "execution_count": null,
   "metadata": {},
   "outputs": [],
   "source": [
    "# Boucle sur vecteur lmod: for i=1:eof\n",
    "# si pas de gaussiennes dans residus ( = si point arrivee opt a 3 spots fittes), alors fit bon\n",
    "# sinon, fit mauvais\n"
   ]
  },
  {
   "cell_type": "code",
   "execution_count": null,
   "metadata": {},
   "outputs": [],
   "source": []
  }
 ],
 "metadata": {
  "kernelspec": {
   "display_name": "Julia 1.5.3",
   "language": "julia",
   "name": "julia-1.5"
  },
  "language_info": {
   "file_extension": ".jl",
   "mimetype": "application/julia",
   "name": "julia",
   "version": "1.5.3"
  }
 },
 "nbformat": 4,
 "nbformat_minor": 4
}
