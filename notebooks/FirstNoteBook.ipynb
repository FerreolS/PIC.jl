{
  "nbformat": 4,
  "nbformat_minor": 5,
  "metadata": {
    "kernelspec": {
      "display_name": "Julia 1.6.0",
      "language": "julia",
      "name": "julia-1.6"
    },
    "language_info": {
      "file_extension": ".jl",
      "mimetype": "application/julia",
      "name": "julia",
      "version": "1.6.0"
    },
    "colab": {
      "name": "FirstNoteBook.ipynb",
      "provenance": []
    }
  },
  "cells": [
    {
      "cell_type": "code",
      "metadata": {
        "id": "GIeFXS0F0zww",
        "colab": {
          "base_uri": "https://localhost:8080/"
        },
        "outputId": "c3ec755d-84ea-4d50-f6a1-36faeba72e32"
      },
      "source": [
        "%%shell\n",
        "set -e\n",
        "\n",
        "#---------------------------------------------------#\n",
        "JULIA_VERSION=\"1.6.0\" # any version ≥ 0.7.0\n",
        "JULIA_PACKAGES=\"IJulia BenchmarkTools PyCall PyPlot\"\n",
        "JULIA_PACKAGES_IF_GPU=\"CUDA\"\n",
        "JULIA_NUM_THREADS=4\n",
        "#---------------------------------------------------#\n",
        "\n",
        "if [ -n \"$COLAB_GPU\" ] && [ -z `which julia` ]; then\n",
        "  # Install Julia\n",
        "  JULIA_VER=`cut -d '.' -f -2 <<< \"$JULIA_VERSION\"`\n",
        "  echo \"Installing Julia $JULIA_VERSION on the current Colab Runtime...\"\n",
        "  BASE_URL=\"https://julialang-s3.julialang.org/bin/linux/x64\"\n",
        "  URL=\"$BASE_URL/$JULIA_VER/julia-$JULIA_VERSION-linux-x86_64.tar.gz\"\n",
        "  wget -nv $URL -O /tmp/julia.tar.gz # -nv means \"not verbose\"\n",
        "  tar -x -f /tmp/julia.tar.gz -C /usr/local --strip-components 1\n",
        "  rm /tmp/julia.tar.gz\n",
        "\n",
        "  # Install Packages\n",
        "  if [ \"$COLAB_GPU\" = \"1\" ]; then\n",
        "      JULIA_PACKAGES=\"$JULIA_PACKAGES $JULIA_PACKAGES_IF_GPU\"\n",
        "  fi\n",
        "  for PKG in `echo $JULIA_PACKAGES`; do\n",
        "    echo \"Installing Julia package $PKG...\"\n",
        "    julia -e 'using Pkg; pkg\"add '$PKG'; precompile;\"' &> /dev/null\n",
        "  done\n",
        "\n",
        "  # Install kernel and rename it to \"julia\"\n",
        "  echo \"Installing IJulia kernel...\"\n",
        "  julia -e 'using IJulia; IJulia.installkernel(\"julia\", env=Dict(\n",
        "      \"JULIA_NUM_THREADS\"=>\"'\"$JULIA_NUM_THREADS\"'\"))'\n",
        "  KERNEL_DIR=`julia -e \"using IJulia; print(IJulia.kerneldir())\"`\n",
        "  KERNEL_NAME=`ls -d \"$KERNEL_DIR\"/julia*`\n",
        "  mv -f $KERNEL_NAME \"$KERNEL_DIR\"/julia  \n",
        "\n",
        "  echo ''\n",
        "  echo \"Successfully installed `julia -v`!\"\n",
        "  echo \"Please reload this page (press Ctrl+R, ⌘+R, or the F5 key) then\"\n",
        "  echo \"jump to the 'Checking the Installation' section.\"\n",
        "fi"
      ],
      "id": "GIeFXS0F0zww",
      "execution_count": null,
      "outputs": [
        {
          "output_type": "stream",
          "text": [
            "Installing Julia 1.6.0 on the current Colab Runtime...\n",
            "2021-03-26 08:43:45 URL:https://storage.googleapis.com/julialang2/bin/linux/x64/1.6/julia-1.6.0-linux-x86_64.tar.gz [112838927/112838927] -> \"/tmp/julia.tar.gz\" [1]\n",
            "Installing Julia package IJulia...\n",
            "Installing Julia package BenchmarkTools...\n",
            "Installing Julia package PyCall...\n",
            "Installing Julia package PyPlot...\n",
            "Installing Julia package CUDA...\n",
            "Installing IJulia kernel...\n",
            "\u001b[36m\u001b[1m[ \u001b[22m\u001b[39m\u001b[36m\u001b[1mInfo: \u001b[22m\u001b[39mInstalling julia kernelspec in /root/.local/share/jupyter/kernels/julia-1.6\n",
            "\n",
            "Successfully installed julia version 1.6.0!\n",
            "Please reload this page (press Ctrl+R, ⌘+R, or the F5 key) then\n",
            "jump to the 'Checking the Installation' section.\n"
          ],
          "name": "stdout"
        },
        {
          "output_type": "execute_result",
          "data": {
            "text/plain": [
              ""
            ]
          },
          "metadata": {
            "tags": []
          },
          "execution_count": 1
        }
      ]
    },
    {
      "cell_type": "markdown",
      "metadata": {
        "id": "e5c50044"
      },
      "source": [
        "# Ceci est notebook de test\n",
        "Tu peux t'inspirer de ce notebook jupyter pour en faire d'autre avec:\n",
        " * des exemples\n",
        " * des images \n",
        " * des questions\n",
        " * ...\n",
        " \n"
      ],
      "id": "e5c50044"
    },
    {
      "cell_type": "code",
      "metadata": {
        "id": "295136a6"
      },
      "source": [
        "include(\"../src/SphereIFSCalib.jl\")\n",
        "\n",
        "using TwoDimensional, Zygote\n"
      ],
      "id": "295136a6",
      "execution_count": null,
      "outputs": []
    },
    {
      "cell_type": "markdown",
      "metadata": {
        "id": "dff97234"
      },
      "source": [
        "### Constantes:"
      ],
      "id": "dff97234"
    },
    {
      "cell_type": "code",
      "metadata": {
        "id": "cfcf1f6e"
      },
      "source": [
        "\n",
        "# wavelengths\n",
        "const λ1 = 987.72e-9# laser 1 \n",
        "const λ2 = 1123.71e-9# laser 2 \n",
        "const λ3 = 1309.37e-9# laser 3\n",
        "const λ4 = 1545.10e-9  # laser 4  \n",
        "const λ0 = λ1# reference\n",
        "const λlaser = [λ1,λ2,λ3,λ4]\n",
        "\n",
        "# model of the LensletModel\n",
        "bbox = BoundingBox(xmin=1, ymin=1, xmax=10, ymax=10);\n",
        "lmod = LensletModel(λ0,λlaser,bbox);\n",
        "\n"
      ],
      "id": "cfcf1f6e",
      "execution_count": null,
      "outputs": []
    },
    {
      "cell_type": "markdown",
      "metadata": {
        "id": "5c616ae4"
      },
      "source": [
        "### Données & initialisation"
      ],
      "id": "5c616ae4"
    },
    {
      "cell_type": "code",
      "metadata": {
        "id": "1759090e"
      },
      "source": [
        "\n",
        "data = rand(100,100)\n",
        "weight = Float64.(rand(100,100).>0.1);\n",
        "\n",
        "\n",
        "Cinit = rand(Float64,2,4);\n",
        "a0= rand(Float64,4);\n",
        "fwhm0= rand(Float64,4);\n",
        "m = rand(100,100);\n"
      ],
      "id": "1759090e",
      "execution_count": null,
      "outputs": []
    },
    {
      "cell_type": "markdown",
      "metadata": {
        "id": "6e3995ec"
      },
      "source": [
        "### Modèles"
      ],
      "id": "6e3995ec"
    },
    {
      "cell_type": "code",
      "metadata": {
        "id": "b0b0d551"
      },
      "source": [
        "\n",
        "likelihood(a,fwhm,C) = GaussianSpotsCost(data,weight,lmod,a,fwhm,C)\n",
        "cost = likelihood(a0,fwhm0,Cinit)\n",
        "\n",
        "∇cost = gradient(likelihood,a0,fwhm0,Cinit)\n",
        "\n",
        "function  g(a::Array{Float64,1},fwhm::Array{Float64,1},C::Array{Float64,2}) \n",
        "    return sum(GaussianSpotsModel(lmod,a,fwhm,C))\n",
        "end"
      ],
      "id": "b0b0d551",
      "execution_count": null,
      "outputs": []
    }
  ]
}