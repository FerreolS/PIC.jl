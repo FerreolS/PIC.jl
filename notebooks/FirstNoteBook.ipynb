{
 "cells": [
  {
   "cell_type": "markdown",
   "id": "e5c50044",
   "metadata": {},
   "source": [
    "# Ceci est notebook de test\n",
    "Tu peux t'inspirer de ce notebook jupyter pour en faire d'autre avec:\n",
    " * des exemples\n",
    " * des images \n",
    " * des questions\n",
    " * ...\n",
    " \n"
   ]
  },
  {
   "cell_type": "code",
   "execution_count": null,
   "id": "295136a6",
   "metadata": {},
   "outputs": [],
   "source": [
    "include(\"../src/SphereIFSCalib.jl\")\n",
    "\n",
    "using TwoDimensional, Zygote\n"
   ]
  },
  {
   "cell_type": "markdown",
   "id": "dff97234",
   "metadata": {},
   "source": [
    "### Constantes:"
   ]
  },
  {
   "cell_type": "code",
   "execution_count": null,
   "id": "cfcf1f6e",
   "metadata": {},
   "outputs": [],
   "source": [
    "\n",
    "# wavelengths\n",
    "const λ1 = 987.72e-9# laser 1 \n",
    "const λ2 = 1123.71e-9# laser 2 \n",
    "const λ3 = 1309.37e-9# laser 3\n",
    "const λ4 = 1545.10e-9  # laser 4  \n",
    "const λ0 = λ1# reference\n",
    "const λlaser = [λ1,λ2,λ3,λ4]\n",
    "\n",
    "# model of the LensletModel\n",
    "bbox = BoundingBox(xmin=1, ymin=1, xmax=10, ymax=10);\n",
    "lmod = LensletModel(λ0,λlaser,bbox);\n",
    "\n"
   ]
  },
  {
   "cell_type": "markdown",
   "id": "5c616ae4",
   "metadata": {},
   "source": [
    "### Données & initialisation"
   ]
  },
  {
   "cell_type": "code",
   "execution_count": null,
   "id": "1759090e",
   "metadata": {},
   "outputs": [],
   "source": [
    "\n",
    "data = rand(100,100)\n",
    "weight = Float64.(rand(100,100).>0.1);\n",
    "\n",
    "\n",
    "Cinit = rand(Float64,2,4);\n",
    "a0= rand(Float64,4);\n",
    "fwhm0= rand(Float64,4);\n",
    "m = rand(100,100);\n"
   ]
  },
  {
   "cell_type": "markdown",
   "id": "6e3995ec",
   "metadata": {},
   "source": [
    "### Modèles"
   ]
  },
  {
   "cell_type": "code",
   "execution_count": null,
   "id": "b0b0d551",
   "metadata": {},
   "outputs": [],
   "source": [
    "\n",
    "likelihood(a,fwhm,C) = GaussianSpotsCost(data,weight,lmod,a,fwhm,C)\n",
    "cost = likelihood(a0,fwhm0,Cinit)\n",
    "\n",
    "∇cost = gradient(likelihood,a0,fwhm0,Cinit)\n",
    "\n",
    "function  g(a::Array{Float64,1},fwhm::Array{Float64,1},C::Array{Float64,2}) \n",
    "    return sum(GaussianSpotsModel(lmod,a,fwhm,C))\n",
    "end"
   ]
  }
 ],
 "metadata": {
  "kernelspec": {
   "display_name": "Julia 1.6.0",
   "language": "julia",
   "name": "julia-1.6"
  },
  "language_info": {
   "file_extension": ".jl",
   "mimetype": "application/julia",
   "name": "julia",
   "version": "1.6.0"
  }
 },
 "nbformat": 4,
 "nbformat_minor": 5
}
