{
  "nbformat": 4,
  "nbformat_minor": 0,
  "metadata": {
    "accelerator": "GPU",
    "kernelspec": {
      "display_name": "Julia 1.6.0",
      "language": "julia",
      "name": "julia-1.6"
    },
    "language_info": {
      "file_extension": ".jl",
      "mimetype": "application/julia",
      "name": "julia",
      "version": "1.6.0"
    },
    "colab": {
      "name": "FirstNoteBook.ipynb",
      "provenance": []
    }
  },
  "cells": [
    {
      "cell_type": "code",
      "metadata": {
        "id": "pMwstD_e79Vm",
        "outputId": "a30d16f3-3194-4160-f456-d743a46c0474",
        "colab": {
          "base_uri": "https://localhost:8080/"
        }
      },
      "source": [
        "# Installation cell\n",
        "%%shell\n",
        "if ! command -v julia 3>&1 > /dev/null\n",
        "then\n",
        "    wget -q 'https://julialang-s3.julialang.org/bin/linux/x64/1.6/julia-1.6.0-linux-x86_64.tar.gz' \\\n",
        "        -O /tmp/julia.tar.gz\n",
        "    tar -x -f /tmp/julia.tar.gz -C /usr/local --strip-components 1\n",
        "    rm /tmp/julia.tar.gz\n",
        "fi\n",
        "julia -e 'using Pkg; pkg\"add IJulia; precompile;\"'\n",
        "echo 'Done'"
      ],
      "execution_count": 1,
      "outputs": [
        {
          "output_type": "stream",
          "text": [
            "\u001b[33m\u001b[1m┌ \u001b[22m\u001b[39m\u001b[33m\u001b[1mWarning: \u001b[22m\u001b[39mThe Pkg REPL interface is intended for interactive use, use with caution from scripts.\n",
            "\u001b[33m\u001b[1m└ \u001b[22m\u001b[39m\u001b[90m@ Pkg.REPLMode /buildworker/worker/package_linux64/build/usr/share/julia/stdlib/v1.6/Pkg/src/REPLMode/REPLMode.jl:378\u001b[39m\n",
            "\u001b[32m\u001b[1m    Updating\u001b[22m\u001b[39m registry at `~/.julia/registries/General`\n",
            "\u001b[32m\u001b[1m   Resolving\u001b[22m\u001b[39m package versions...\n",
            "\u001b[?25l\u001b[?25h\u001b[2K\u001b[32m\u001b[1m  No Changes\u001b[22m\u001b[39m to `~/.julia/environments/v1.6/Project.toml`\n",
            "\u001b[32m\u001b[1m  No Changes\u001b[22m\u001b[39m to `~/.julia/environments/v1.6/Manifest.toml`\n",
            "\u001b[?25l\u001b[?25h\u001b[2K\u001b[?25h\u001b[?25hDone\n"
          ],
          "name": "stdout"
        },
        {
          "output_type": "execute_result",
          "data": {
            "text/plain": [
              ""
            ]
          },
          "metadata": {
            "tags": []
          },
          "execution_count": 8
        }
      ]
    },
    {
      "cell_type": "markdown",
      "metadata": {
        "id": "e5c50044"
      },
      "source": [
        "# Ceci est notebook de test\n",
        "Tu peux t'inspirer de ce notebook jupyter pour en faire d'autre avec:\n",
        " * des exemples\n",
        " * des images \n",
        " * des questions\n",
        " * ...\n",
        " \n"
      ],
      "id": "e5c50044"
    },
    {
      "cell_type": "code",
      "metadata": {
        "id": "295136a6",
        "outputId": "e81f1043-b2fa-4b3d-89b2-b01593073cdc",
        "colab": {
          "base_uri": "https://localhost:8080/",
          "height": 130
        }
      },
      "source": [
        "include(\"../src/SphereIFSCalib.jl\")\n",
        "\n",
        "using TwoDimensional, Zygote\n"
      ],
      "id": "295136a6",
      "execution_count": 9,
      "outputs": [
        {
          "output_type": "error",
          "ename": "SyntaxError",
          "evalue": "ignored",
          "traceback": [
            "\u001b[0;36m  File \u001b[0;32m\"<ipython-input-9-2cbfb892a74d>\"\u001b[0;36m, line \u001b[0;32m3\u001b[0m\n\u001b[0;31m    using TwoDimensional, Zygote\u001b[0m\n\u001b[0m                       ^\u001b[0m\n\u001b[0;31mSyntaxError\u001b[0m\u001b[0;31m:\u001b[0m invalid syntax\n"
          ]
        }
      ]
    },
    {
      "cell_type": "markdown",
      "metadata": {
        "id": "dff97234"
      },
      "source": [
        "### Constantes:"
      ],
      "id": "dff97234"
    },
    {
      "cell_type": "code",
      "metadata": {
        "id": "cfcf1f6e"
      },
      "source": [
        "\n",
        "# wavelengths\n",
        "const λ1 = 987.72e-9# laser 1 \n",
        "const λ2 = 1123.71e-9# laser 2 \n",
        "const λ3 = 1309.37e-9# laser 3\n",
        "const λ4 = 1545.10e-9  # laser 4  \n",
        "const λ0 = λ1# reference\n",
        "const λlaser = [λ1,λ2,λ3,λ4]\n",
        "\n",
        "# model of the LensletModel\n",
        "bbox = BoundingBox(xmin=1, ymin=1, xmax=10, ymax=10);\n",
        "lmod = LensletModel(λ0,λlaser,bbox);\n",
        "\n"
      ],
      "id": "cfcf1f6e",
      "execution_count": null,
      "outputs": []
    },
    {
      "cell_type": "markdown",
      "metadata": {
        "id": "5c616ae4"
      },
      "source": [
        "### Données & initialisation"
      ],
      "id": "5c616ae4"
    },
    {
      "cell_type": "code",
      "metadata": {
        "id": "1759090e"
      },
      "source": [
        "\n",
        "data = rand(100,100)\n",
        "weight = Float64.(rand(100,100).>0.1);\n",
        "\n",
        "\n",
        "Cinit = rand(Float64,2,4);\n",
        "a0= rand(Float64,4);\n",
        "fwhm0= rand(Float64,4);\n",
        "m = rand(100,100);\n"
      ],
      "id": "1759090e",
      "execution_count": null,
      "outputs": []
    },
    {
      "cell_type": "markdown",
      "metadata": {
        "id": "6e3995ec"
      },
      "source": [
        "### Modèles"
      ],
      "id": "6e3995ec"
    },
    {
      "cell_type": "code",
      "metadata": {
        "id": "b0b0d551"
      },
      "source": [
        "\n",
        "likelihood(a,fwhm,C) = GaussianSpotsCost(data,weight,lmod,a,fwhm,C)\n",
        "cost = likelihood(a0,fwhm0,Cinit)\n",
        "\n",
        "∇cost = gradient(likelihood,a0,fwhm0,Cinit)\n",
        "\n",
        "function  g(a::Array{Float64,1},fwhm::Array{Float64,1},C::Array{Float64,2}) \n",
        "    return sum(GaussianSpotsModel(lmod,a,fwhm,C))\n",
        "end"
      ],
      "id": "b0b0d551",
      "execution_count": null,
      "outputs": []
    }
  ]
}
