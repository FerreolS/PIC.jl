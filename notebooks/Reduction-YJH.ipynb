{
 "cells": [
  {
   "cell_type": "markdown",
   "metadata": {},
   "source": [
    "# Global fit of the model on all the lenslets\n",
    "To obtain a continuous spatial covering of an image, the focal plane is divided into many different cells by the lenslet array. The signal from each pixel is then sent to a spectrograph, so that in the end every pixel generate one spectre, giving one position. Each spectre is a sum of gaussian spots.\n",
    "\n",
    "The inverse problem approach allows to reduce errors on the raw data, which will in turn allows a better data reduction. We start with a direct model following the equation m = ∑ α g(θ,σ), with m the unknown model, α the amplitude of the gaussian spots g at the posotion θ and for a width at half maximum σ. To obtain the projection operator, we inverse the model: instead of having the position x(λ) on the detector, we want the wavelengths λ(x).\n",
    "\n",
    "Depending on the mode (YJ or YJH), a lenslet has 3 or 4 spots. Here, we are initialising the model of these spots.\n",
    "We need to compute the amplitudes a, full widths at half maximum fwhm and positions of the spots in the lenslets, and adjust the polynomial laws with cx the coefficients on x axis and cy on y axis. "
   ]
  },
  {
   "cell_type": "code",
   "execution_count": 9,
   "metadata": {},
   "outputs": [],
   "source": [
    "#using Pkg;\n",
    "#Pkg.add(url=\"https://github.com/FerreolS/OptimPackNextGen.jl\",rev=\"verbose\")"
   ]
  },
  {
   "cell_type": "code",
   "execution_count": 12,
   "metadata": {},
   "outputs": [
    {
     "data": {
      "text/plain": [
       "Plots.PlotlyBackend()"
      ]
     },
     "execution_count": 12,
     "metadata": {},
     "output_type": "execute_result"
    }
   ],
   "source": [
    "#Packages\n",
    "using PIC\n",
    "\n",
    "using Plots, StatsBase, Statistics, TwoDimensional, OptimPackNextGen, DelimitedFiles\n",
    "using FITSIO, ProgressMeter\n",
    "using DataFrames, CSV\n",
    "\n",
    "plotly()                                 # Backend of Plots package"
   ]
  },
  {
   "cell_type": "markdown",
   "metadata": {},
   "source": [
    "## Wavelengths\n",
    "lasers are placed in front of the lenslets, in order to calibrate over different bands.\n",
    "lasers are distributed on the detector following the dispersion law.\n",
    "3 or 4 lasers are used depending on which mode is used."
   ]
  },
  {
   "cell_type": "code",
   "execution_count": null,
   "metadata": {},
   "outputs": [],
   "source": [
    "#Enter url from data file here:\n",
    "#download(url::AbstractString, [path::AbstractString = tempname()]) -> path"
   ]
  },
  {
   "cell_type": "code",
   "execution_count": 13,
   "metadata": {},
   "outputs": [],
   "source": [
    "λ1 = 987.72e-9                            # laser 1 \n",
    "λ2 = 1123.71e-9                           # laser 2 \n",
    "λ3 = 1309.37e-9                           # laser 3\n",
    "λ4 = 1545.10e-9                           # laser 4  \n",
    "λlaser = [λ1,λ2,λ3,λ4]\n",
    "nλ = length(λlaser)                       # number of spots in the model\n",
    "λ0 = mean(λlaser);                        # reference\n",
    "wavelengthrange = LinRange(850e-9,1600e-9,50); # coarse wavelength range of the instrument"
   ]
  },
  {
   "cell_type": "markdown",
   "metadata": {},
   "source": [
    "## Calibration\n",
    "\n",
    "x(λ) = cx0 + cx1((λ-λ0)/λ0) + cx2((λ-λ0)/λ0)²\n",
    "\n",
    "y(λ) = cy0 + cy1((λ-λ0)/λ0) + cy2((λ-λ0)/λ0)²\n",
    "\n",
    "c0: order 0 coefficient, corresponding to the center of the lenslet, 0 = 1025x1025 pixel, so we have to add 1025 to cx0 and cy0.\n",
    "\n",
    "λ is in meter here, but in the previous Matlab code, λ was in micrometer. c1 and c2 are then normalised and converted."
   ]
  },
  {
   "cell_type": "code",
   "execution_count": 14,
   "metadata": {},
   "outputs": [],
   "source": [
    "coeffx = readdlm(\"/home/user/stage/data_HR8799_YJH/Calibration/coef_pol_x.txt\", header = false)\n",
    "cx0 = coeffx[:,1] .+ 1025;                # cx0\n",
    "mcx1 = median(coeffx[:,2])*λ0*1e6;        # median of cx1\n",
    "mcx2 = median(coeffx[:,3])*(λ0*1e6)^2;    # median of cx2\n",
    "mcx3 = median(coeffx[:,4])*(λ0*1e6)^3;    # median of cx3\n",
    "\n",
    "coeffy = readdlm(\"/home/user/stage/data_HR8799_YJH/Calibration/coef_pol_y.txt\", header = false)\n",
    "cy0 = coeffy[:,1].+ 1025;                 # cy0\n",
    "mcy1 = median(coeffy[:,2])*λ0*1e6;        # median of cy1\n",
    "mcy2 = median(coeffy[:,3])*(λ0*1e6)^2;    # median of cy2\n",
    "mcy3 = median(coeffx[:,4])*(λ0*1e6)^3;    # median of cy3"
   ]
  },
  {
   "cell_type": "markdown",
   "metadata": {},
   "source": [
    "## Data_processed"
   ]
  },
  {
   "cell_type": "code",
   "execution_count": 15,
   "metadata": {},
   "outputs": [],
   "source": [
    "lampData =  read(FITS(\"/home/user/stage/data_HR8799_YJH/Data_processed/IFS_calib_spec_corrected.fits\")[1]);\n",
    "laserData =  read(FITS(\"/home/user/stage/data_HR8799_YJH/Data_processed/IFS_calib_wave_corrected.fits\")[1]);\n",
    "#bad pixel map, 0 or 1 value: used as precision map\n",
    "badpix = Float64.(read(FITS(\"/home/user/stage/data_HR8799_YJH/Data_processed/IFS_BP_corrected.fits\")[1])); "
   ]
  },
  {
   "cell_type": "markdown",
   "metadata": {},
   "source": [
    "## Constants"
   ]
  },
  {
   "cell_type": "code",
   "execution_count": 16,
   "metadata": {},
   "outputs": [],
   "source": [
    "lensletnumber= length(cx0) # Total number of lenslet in the image\n",
    "\n",
    "#Initialisation\n",
    "#ainit = [990. , 690. , 310. , 100.];\n",
    "#fwhminit = [2.3, 2.4 , 2.7, 2. ];\n",
    "ainit= rand(Float64,4);\n",
    "fwhminit= rand(Float64,4)*10;\n",
    "\n",
    "#BoundingBox\n",
    "largeur = 4;\n",
    "hauteur = 44;\n",
    "dxmin = 2;\n",
    "dxmax = 2;\n",
    "dymin = 21;\n",
    "dymax = 18;"
   ]
  },
  {
   "cell_type": "code",
   "execution_count": 17,
   "metadata": {},
   "outputs": [],
   "source": [
    "#Valid lenslet framed by bbox \n",
    "valid = (round.(cx0 .- dxmin).>0) .&  (round.(cx0 .+ dxmax).<2048) .&  \n",
    "(round.(cy0 .- dymin).>0) .&  (round.(cy0 .+ dymax).<2048);"
   ]
  },
  {
   "cell_type": "markdown",
   "metadata": {},
   "source": [
    "## Initialisation of the tables of results"
   ]
  },
  {
   "cell_type": "code",
   "execution_count": 18,
   "metadata": {},
   "outputs": [],
   "source": [
    "lenslettab = Array{Union{LensletModel,Missing}}(missing,lensletnumber);\n",
    "atab = Array{Union{Float64,Missing}}(missing,4,lensletnumber);\n",
    "fwhmtab = Array{Union{Float64,Missing}}(missing,4,lensletnumber);\n",
    "ctab = Array{Union{Float64,Missing}}(missing,2,4,lensletnumber);"
   ]
  },
  {
   "cell_type": "markdown",
   "metadata": {},
   "source": [
    "## Fit over all the lenslets"
   ]
  },
  {
   "cell_type": "code",
   "execution_count": 19,
   "metadata": {},
   "outputs": [
    {
     "name": "stderr",
     "output_type": "stream",
     "text": [
      "\u001b[32mProgress: 100%|███████████████████████████| Time: 2:44:05 ( 0.52  s/it)\u001b[39mmt)\u001b[39mm\n"
     ]
    }
   ],
   "source": [
    "#Progress bar of the fit\n",
    "p = Progress(lensletnumber; showspeed=true)\n",
    "\n",
    "Threads.@threads for i in findall(valid) # i indice des lenslet valides\n",
    "    #Initialisation\n",
    "    bbox = round(Int, BoundingBox(cx0[i,1]-dxmin, cx0[i,1]+dxmax, cy0[i,1]-dymin, cy0[i,1]+dymax));\n",
    "    lenslettab[i] = LensletModel(λ0,nλ-1, bbox); #Contains the model for each lenslet\n",
    "    Cinit= [ [cx0[i,1] mcx1 mcx2 mcx3]; [cy0[i,1] mcy1 mcy2 mcy3] ];\n",
    "    xinit = vcat([fwhminit[:],Cinit[:]]...);\n",
    "    #Optimisation\n",
    "    laserDataView = view(laserData, bbox);\n",
    "    badpixview = view(badpix,bbox);\n",
    "    lkl = LikelihoodIFS(lenslettab[i],λlaser,laserDataView,badpixview);\n",
    "    cost(x::Vector{Float64}) = lkl(x)\n",
    "    try #The try/catch statement allows for Exceptions to be tested for\n",
    "        xopt = vmlmb(cost, xinit; verb=false,ftol = (0.0,1e-8),maxeval=500);\n",
    "        #Backup of the parameters into vectors\n",
    "        (fwhmopt,copt) = (xopt[1:(nλ)],reshape(xopt[(nλ+1):(3*nλ)],2,:));\n",
    "        atab[:,i] = lkl.amplitude;\n",
    "        fwhmtab[:,i] = fwhmopt\n",
    "        ctab[:,:,i] = copt\n",
    "    catch\n",
    "        continue\n",
    "    end\n",
    "    next!(p)\n",
    "end\n",
    "ProgressMeter.finish!(p)"
   ]
  },
  {
   "cell_type": "markdown",
   "metadata": {},
   "source": [
    "## Backup as CVS files"
   ]
  },
  {
   "cell_type": "code",
   "execution_count": 21,
   "metadata": {},
   "outputs": [],
   "source": [
    "#Tables of results with bad fit, marked as \"missing\"\n",
    "CSV.write(\"amptotYJH.csv\",  DataFrame(atab, :auto), missingstring=\"missing\");\n",
    "CSV.write(\"fwhmtotYJH.csv\",  DataFrame(fwhmtab, :auto), missingstring=\"missing\");\n",
    "#separation de ctab en cxtab et cytab\n",
    "cxtot = reshape(ctab[:,:,:],2,: )[1,:,:];\n",
    "cytot = reshape(ctab[:,:,:],2,: )[2,:,:];  \n",
    "CSV.write(\"cxtotYJH.csv\",  DataFrame(reshape(cxtot,4,:), :auto), missingstring=\"missing\");\n",
    "CSV.write(\"cytotYJH.csv\",  DataFrame(reshape(cytot,4,:), :auto), missingstring=\"missing\");\n",
    "CSV.write(\"lensletmodelYJH.csv\", DataFrame([lenslettab], :auto), missingstring=\"missing\");\n",
    "\n",
    "#Tables of results without bad fit\n",
    "atab_valid = collect(skipmissing(atab));\n",
    "fwhmtab_valid = collect(skipmissing(fwhmtab));\n",
    "ctab_valid = collect(skipmissing(ctab));\n",
    "cxtab = reshape(ctab_valid[:,1,1],2,: )[1,:,:];\n",
    "cytab = reshape(ctab_valid[:,1,1],2,: )[2,:,:];\n",
    "CSV.write(\"atabYJH.csv\",  DataFrame(reshape(atab_valid, 4 , : ), :auto));\n",
    "CSV.write(\"fwhmtabYJH.csv\",  DataFrame(reshape(fwhmtab_valid, 4, :), :auto));\n",
    "CSV.write(\"cxtabYJH.csv\",  DataFrame(reshape(cxtab,4,:), :auto));\n",
    "CSV.write(\"cytabYJH.csv\",  DataFrame(reshape(cytab,4,:), :auto));"
   ]
  }
 ],
 "metadata": {
  "kernelspec": {
   "display_name": "Julia 1.5.3",
   "language": "julia",
   "name": "julia-1.5"
  },
  "language_info": {
   "file_extension": ".jl",
   "mimetype": "application/julia",
   "name": "julia",
   "version": "1.5.3"
  }
 },
 "nbformat": 4,
 "nbformat_minor": 4
}
