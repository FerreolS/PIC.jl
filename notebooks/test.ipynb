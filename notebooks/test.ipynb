{
 "cells": [
  {
   "cell_type": "code",
   "execution_count": 1,
   "metadata": {},
   "outputs": [
    {
     "data": {
      "text/plain": [
       "self"
      ]
     },
     "execution_count": 1,
     "metadata": {},
     "output_type": "execute_result"
    }
   ],
   "source": [
    "using Plots, StatsBase, TwoDimensional,OptimPackNextGen\n",
    "include(\"../src/SphereIFSCalib.jl\")"
   ]
  },
  {
   "cell_type": "code",
   "execution_count": 16,
   "metadata": {},
   "outputs": [
    {
     "name": "stdout",
     "output_type": "stream",
     "text": [
      "data: Array{Float64,2}Cinit: Array{Float64,2}a0: Array{Float64,1}fwhm0: Array{Float64,1}xinit: Array{Float64,1}# ITER   EVAL   REJECTS          F(X)           ||G(X)||    STEP\n",
      "#-----------------------------------------------------------------\n",
      "     0      1      0    1.4135860247650928E+02  2.28E+01  0.00E+00\n",
      "    50     61      0    4.3147433009663914E+01  2.34E-01  1.00E+00\n",
      "   100    124      0    4.3127160589753395E+01  4.84E-01  1.00E+00\n",
      "   150    187      0    4.3123728882731292E+01  1.24E-01  2.78E-01\n",
      "xopt: Array{Float64,1}"
     ]
    }
   ],
   "source": [
    "# wavelengths\n",
    "λ1 = 987.72e-9# laser 1\n",
    "λ2 = 1123.71e-9# laser 2\n",
    "λ3 = 1309.37e-9# laser 3\n",
    "λ4 = 1545.10e-9  # laser 4\n",
    "λlaser = [λ1,λ2,λ3,λ4]\n",
    "λ0 = mean(λlaser)# reference\n",
    "\n",
    "# model of the LensletModel\n",
    "bbox = BoundingBox(xmin=1, ymin=1, xmax=10, ymax=50);\n",
    "#print(typeof(bbox))\n",
    "\n",
    "data = rand(100,100)\n",
    "print(\"data: \", typeof(data))\n",
    "weight = Float64.(rand(100,100).>0.1);\n",
    "\n",
    "\n",
    "Cinit = rand(Float64,2,4);\n",
    "print(\"Cinit: \",  typeof(Cinit))\n",
    "a0= rand(Float64,4);\n",
    "print(\"a0: \",  typeof(a0))\n",
    "fwhm0= rand(Float64,4)*10;\n",
    "print(\"fwhm0: \",  typeof(fwhm0))\n",
    "laser =  LaserModel(λlaser,a0,fwhm0)\n",
    "lmod = LensletModel(λ0,laser.nλ-1,bbox);\n",
    "\n",
    "\n",
    "\n",
    "Cinit = [[ 6.2 10 0 0 ]; [20 100 0 0]]\n",
    "UpdateDispModel(lmod.dmodel,Cinit)\n",
    "limage = LensletLaserImage(lmod,laser)\n",
    "heatmap(limage)\n",
    "\n",
    "ldata = view(data, lmod.bbox);\n",
    "lkl = LikelihoodIFS(lmod,laser, ldata);\n",
    "cost(x::Vector{Float64}) = lkl(x)::Float64\n",
    "xinit = vcat([a0[:],fwhm0[:],Cinit[:]]...);\n",
    "print(\"xinit: \",  typeof(xinit))\n",
    "xopt = vmlmb(cost, xinit; verb=50);\n",
    "print(\"xopt: \",  typeof(xopt))"
   ]
  }
 ],
 "metadata": {
  "kernelspec": {
   "display_name": "Julia 1.5.3",
   "language": "julia",
   "name": "julia-1.5"
  },
  "language_info": {
   "file_extension": ".jl",
   "mimetype": "application/julia",
   "name": "julia",
   "version": "1.5.3"
  }
 },
 "nbformat": 4,
 "nbformat_minor": 4
}
