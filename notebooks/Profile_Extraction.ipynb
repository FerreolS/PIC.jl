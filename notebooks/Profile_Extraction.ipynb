{
 "cells": [
  {
   "attachments": {},
   "cell_type": "markdown",
   "metadata": {},
   "source": [
    "# Extraction of the profile of the laser spots and the lamp\n"
   ]
  },
  {
   "attachments": {},
   "cell_type": "markdown",
   "metadata": {},
   "source": [
    "### Loading data:"
   ]
  },
  {
   "cell_type": "code",
   "execution_count": 1,
   "metadata": {},
   "outputs": [],
   "source": [
    "using Revise, PIC\n",
    "ENV[\"JULIA_DEBUG\"] = Main.PIC\n",
    "using Plots, StatsBase,Statistics, DelimitedFiles\n",
    "using FITSIO"
   ]
  },
  {
   "cell_type": "code",
   "execution_count": 2,
   "metadata": {},
   "outputs": [],
   "source": [
    "\n",
    "# wavelengths\n",
    "λ1 = 987.72e-9;# laser 1\n",
    "λ2 = 1123.71e-9;# laser 2\n",
    "λ3 = 1309.37e-9;# laser 3\n",
    "λ4 = 1545.10e-9;  # laser 4\n",
    "\n",
    "# YJ observations\n",
    "λlaser = [λ1,λ2,λ3];\n",
    "nλ = length(λlaser);\n",
    "λ0 = mean(λlaser);# reference\n",
    "\n",
    "\n",
    "lampData =  read(FITS( \"/Users/ferreol/Data/SPHERE/IFS/HR_4796-HD_95086/IFS_calib_spec_corrected.fits\")[1]);\n",
    "laserData =  read(FITS(\"/Users/ferreol/Data/SPHERE/IFS/HR_4796-HD_95086/IFS_calib_wave_corrected.fits\")[1]);\n",
    "badpix = Float64.(read(FITS(\"/Users/ferreol/Data/SPHERE/IFS/HR_4796-HD_95086/IFS_BP_corrected.fits\")[1]));\n",
    "\n"
   ]
  },
  {
   "cell_type": "code",
   "execution_count": 3,
   "metadata": {},
   "outputs": [],
   "source": [
    "using   Plots,LsqFit, Distributions\n",
    "plotlyjs();\n"
   ]
  },
  {
   "attachments": {},
   "cell_type": "markdown",
   "metadata": {},
   "source": [
    "### Grab the median coefs computed by Anthony as initialization\n"
   ]
  },
  {
   "cell_type": "code",
   "execution_count": 4,
   "metadata": {},
   "outputs": [],
   "source": [
    "coeffx = readdlm(\"/Users/ferreol/Data/SPHERE/IFS/HR_4796-HD_95086/coef_pol_x.txt\", header = false)\n",
    "cx0 = coeffx[:,1] .+ 1025;\n",
    "mcx1 = median(coeffx[:,2])*λ0*1e6;\n",
    "mcx2 = median(coeffx[:,3])*(λ0*1e6)^2;\n",
    "\n",
    "coeffy = readdlm(\"/Users/ferreol/Data/SPHERE/IFS/HR_4796-HD_95086/coef_pol_y.txt\", header = false)\n",
    "cy0 = coeffy[:,1].+ 1025;\n",
    "mcy1 = median(coeffy[:,2])*λ0*1e6;\n",
    "mcy2 = median(coeffy[:,3])*(λ0*1e6)^2;\n",
    "\n",
    "\n",
    "position = hcat(cx0, cy0);\n",
    "cxinit = [mcx1;mcx2];\n",
    "cyinit = [mcy1;mcy2];\n",
    "lensletnumber= length(cx0);"
   ]
  },
  {
   "cell_type": "code",
   "execution_count": 5,
   "metadata": {},
   "outputs": [
    {
     "data": {
      "text/plain": [
       "2-element Vector{Float64}:\n",
       " -0.6843665411452148\n",
       " -0.4144658221727444"
      ]
     },
     "metadata": {},
     "output_type": "display_data"
    }
   ],
   "source": [
    "cxinit"
   ]
  },
  {
   "attachments": {},
   "cell_type": "markdown",
   "metadata": {},
   "source": [
    "### Lenslet bounding box size "
   ]
  },
  {
   "cell_type": "code",
   "execution_count": 6,
   "metadata": {},
   "outputs": [],
   "source": [
    "\n",
    "fwhminit = [2.3, 2.4 , 2.7];\n",
    "\n",
    "#largeur = 4;\n",
    "#hauteur = 44;\n",
    "dxmin = 2;\n",
    "dxmax = 2;\n",
    "dymin = 21;\n",
    "dymax = 18;\n",
    "lensletsize = (dxmin, dxmax,dymin,dymax);\n",
    "\n",
    "# removing cropped lenslets\n",
    "validlenslet = ((cx0 .- dxmin).>0) .&  ((cx0 .+ dxmax).<2048) .&  ((cy0 .- dymin).>0) .&  ((cy0 .+ dymax).<2048);\n"
   ]
  },
  {
   "attachments": {},
   "cell_type": "markdown",
   "metadata": {},
   "source": [
    "### Sampling of the spectral law:"
   ]
  },
  {
   "cell_type": "code",
   "execution_count": 7,
   "metadata": {},
   "outputs": [],
   "source": [
    "wavelengthrange = LinRange(850e-9,1600e-9,10000); # coarse wavelength range of the instrument\n"
   ]
  },
  {
   "attachments": {},
   "cell_type": "markdown",
   "metadata": {},
   "source": [
    "## Fitting the spectral dispertion law for each lenslet\n",
    "\n",
    "The output contains 3 tables:\n",
    "- `lenslettab` : the lenslet description (bounding box + spectral law)\n",
    "- `atab` : the amplitude of each spots\n",
    "- `fwhmtab` : the full-width at half maximum of each spots\n",
    "\n",
    "and 2 maps:\n",
    "- `distweight` : the distance of each pixel within a lenslet from to the spectral law\n",
    "- `\\lambdaMap` : the wavelenght seen by each pixels"
   ]
  },
  {
   "cell_type": "code",
   "execution_count": null,
   "metadata": {},
   "outputs": [],
   "source": [
    "(lenslettab,  atab, fwhmtab, distweight, λMap) = fitSpectralLaw(laserData,badpix,λlaser,lensletsize,position,cxinit,cyinit,fwhminit,wavelengthrange;validlenslets=validlenslet[1:100]);\n"
   ]
  },
  {
   "attachments": {},
   "cell_type": "markdown",
   "metadata": {},
   "source": [
    "### Accounting for missing data"
   ]
  },
  {
   "cell_type": "code",
   "execution_count": null,
   "metadata": {},
   "outputs": [],
   "source": [
    "\n",
    "distweight[iszero.(badpix)].=missing;\n",
    "λMap[iszero.(badpix)].=missing;\n",
    "\n",
    "spotData = Array{Union{Float64,Missing}}(missing,2048,2048);\n",
    "spotData .= laserData;\n",
    "spotData[ismissing.(distweight)].=missing;\n",
    "\n",
    "flatData = Array{Union{Float64,Missing}}(missing,2048,2048);\n",
    "flatData .= lampData;\n",
    "flatData[ismissing.(distweight)].=missing;"
   ]
  },
  {
   "cell_type": "code",
   "execution_count": null,
   "metadata": {},
   "outputs": [],
   "source": [
    "Plots.heatmap(λMap)"
   ]
  },
  {
   "cell_type": "code",
   "execution_count": null,
   "metadata": {},
   "outputs": [],
   "source": [
    "Plots.heatmap(distweight)"
   ]
  },
  {
   "attachments": {},
   "cell_type": "markdown",
   "metadata": {},
   "source": [
    "### Building histograms\n"
   ]
  },
  {
   "cell_type": "code",
   "execution_count": null,
   "metadata": {},
   "outputs": [],
   "source": [
    "using StatsBase\n",
    "\n",
    "Nspatial = 40;\n",
    "Nspectral = 250;\n",
    "hlaser = fit(Histogram,(collect(skipmissing(distweight[:])),collect(skipmissing(λMap[:].*1e6))),weights(collect(skipmissing(spotData[:]))),nbins=(Nspatial,Nspectral));\n",
    "hflat = fit(Histogram,(collect(skipmissing(distweight[:])),collect(skipmissing(λMap[:].*1e6))),weights(collect(skipmissing(flatData[:]))),nbins=(Nspatial,Nspectral));\n",
    "\n",
    "daxe = (hlaser.edges[1][2:end] + hlaser.edges[1][1:end-1])./2.;\n",
    "λaxe = (hlaser.edges[2][2:end] + hlaser.edges[2][1:end-1])./2.;"
   ]
  },
  {
   "cell_type": "code",
   "execution_count": null,
   "metadata": {},
   "outputs": [],
   "source": [
    "#plot(contour(y=λaxe,x=daxe,z=hlaser.weights, contours_start=0, contours_end=1.8e6, contours_size=1e5))\n",
    "import PlotlyJS as PlotlyJS\n",
    "#PlotlyJS.plot(PlotlyJS.contour(y=λaxe,x=daxe,z=hlaser.weights))\n",
    "PlotlyJS.plot(PlotlyJS.contour(x=λaxe,y=daxe,z=hlaser.weights, contours_start=0, contours_end=3e6, contours_size=5e4))"
   ]
  },
  {
   "cell_type": "code",
   "execution_count": null,
   "metadata": {},
   "outputs": [],
   "source": [
    "PlotlyJS.plot(PlotlyJS.contour(x=λaxe,y=daxe,z=hflat.weights, contours_start=0, contours_end=10.5e6, contours_size=5e5))"
   ]
  },
  {
   "attachments": {},
   "cell_type": "markdown",
   "metadata": {},
   "source": [
    "Gaussian model"
   ]
  },
  {
   "cell_type": "code",
   "execution_count": null,
   "metadata": {},
   "outputs": [],
   "source": [
    "m(t, p) = p[1] * exp.(- t.^2 ./p[2])\n",
    "p0 = [1e7, 0.5];"
   ]
  },
  {
   "attachments": {},
   "cell_type": "markdown",
   "metadata": {},
   "source": [
    "### Fitting spots "
   ]
  },
  {
   "cell_type": "code",
   "execution_count": null,
   "metadata": {},
   "outputs": [],
   "source": [
    "s1 = findfirst(x->x>λ1*1e6,λaxe);\n",
    "PlotlyJS.plot(daxe,hlaser.weights[:,s1-4:s1+4],name=reshape([\" $(i) \" for i in λaxe[s1-4:s1+4] ],1,9))"
   ]
  },
  {
   "cell_type": "code",
   "execution_count": null,
   "metadata": {},
   "outputs": [],
   "source": [
    "\n",
    "m(t, p) = p[1] * exp.(- t.^2 ./p[2])\n",
    "p0 = [1e7, 0.5];\n",
    "fittedlaser1 = curve_fit(m, daxe, hlaser.weights[:,s1], p0);\n",
    "println(fittedlaser1.param)\n",
    "plot(daxe,hcat(m(daxe, fittedlaser1.param),hlaser.weights[:,s1]))"
   ]
  },
  {
   "cell_type": "code",
   "execution_count": null,
   "metadata": {},
   "outputs": [],
   "source": []
  },
  {
   "cell_type": "code",
   "execution_count": null,
   "metadata": {},
   "outputs": [],
   "source": [
    "\n",
    "s2 = findfirst(x->x>λ2*1e6,λaxe);\n",
    "plot(daxe,hlaser.weights[:,s2-4:s2+4])"
   ]
  },
  {
   "cell_type": "code",
   "execution_count": null,
   "metadata": {},
   "outputs": [],
   "source": [
    "fittedlaser2 = curve_fit(m, daxe, hlaser.weights[:,s2], p0);\n",
    "plot(daxe,hcat(m(daxe, fittedlaser2.param),hlaser.weights[:,s2]))"
   ]
  },
  {
   "cell_type": "code",
   "execution_count": null,
   "metadata": {},
   "outputs": [],
   "source": [
    "\n",
    "s3 = findfirst(x->x>λ3*1e6,λaxe);\n",
    "plot(daxe,hlaser.weights[:,s3-4:s3+4])\n"
   ]
  },
  {
   "cell_type": "code",
   "execution_count": null,
   "metadata": {},
   "outputs": [],
   "source": [
    "fittedlaser3 = curve_fit(m, daxe, hlaser.weights[:,s3], p0);\n",
    "plot(daxe,hcat(m(daxe, fittedlaser3.param),hlaser.weights[:,s3]))"
   ]
  },
  {
   "attachments": {},
   "cell_type": "markdown",
   "metadata": {},
   "source": [
    "### Fitting flat "
   ]
  },
  {
   "cell_type": "code",
   "execution_count": null,
   "metadata": {},
   "outputs": [],
   "source": [
    "\n",
    "fittedflat1 = curve_fit(m, daxe, hflat.weights[:,s1], p0);\n",
    "plot(daxe,hcat(m(daxe, fittedflat1.param),hflat.weights[:,s1]))"
   ]
  },
  {
   "cell_type": "code",
   "execution_count": null,
   "metadata": {},
   "outputs": [],
   "source": [
    "\n",
    "s2 = findfirst(x->x>λ2*1e6,λaxe);\n",
    "fittedflat2 = curve_fit(m, daxe, hflat.weights[:,s2], p0);\n",
    "plot(daxe,hcat(m(daxe, fittedflat2.param),hflat.weights[:,s2]))"
   ]
  },
  {
   "cell_type": "code",
   "execution_count": null,
   "metadata": {},
   "outputs": [],
   "source": [
    "\n",
    "s3 = findfirst(x->x>λ3*1e6,λaxe);\n",
    "fittedflat3 = curve_fit(m, daxe, hflat.weights[:,s3], p0);\n",
    "plot(daxe,hcat(m(daxe, fittedflat3.param),hflat.weights[:,s3]))"
   ]
  },
  {
   "cell_type": "code",
   "execution_count": null,
   "metadata": {},
   "outputs": [],
   "source": [
    "@show \"$(fittedlaser1.param[2])\";\n",
    "@show \"$(fittedflat1.param[2])\";\n",
    "@show \"$(fittedlaser2.param[2])\";\n",
    "@show \"$(fittedflat2.param[2])\";\n",
    "@show \"$(fittedlaser3.param[2])\";\n",
    "@show \"$(fittedflat3.param[2])\";"
   ]
  },
  {
   "cell_type": "code",
   "execution_count": null,
   "metadata": {},
   "outputs": [],
   "source": [
    "\n",
    "Nspatial = 20;\n",
    "Nspectral = 100;\n",
    "hlaserc = fit(Histogram,(collect(skipmissing(distweight[500:1500,500:1500][:])),collect(skipmissing(λMap[500:1500,500:1500][:].*1e6))),weights(collect(skipmissing(spotData[500:1500,500:1500][:]))),nbins=(Nspatial,Nspectral));\n",
    "hflatc = fit(Histogram,(collect(skipmissing(distweight[500:1500,500:1500][:])),collect(skipmissing(λMap[500:1500,500:1500][:].*1e6))),weights(collect(skipmissing(flatData[500:1500,500:1500][:]))),nbins=(Nspatial,Nspectral));\n",
    "\n",
    "daxe = (hlaserc.edges[1][2:end] + hlaserc.edges[1][1:end-1])./2.;\n",
    "λaxe = (hlaserc.edges[2][2:end] + hlaserc.edges[2][1:end-1])./2.;"
   ]
  },
  {
   "cell_type": "code",
   "execution_count": null,
   "metadata": {},
   "outputs": [],
   "source": [
    "#plot(contour(y=λaxe,x=daxe,z=hlaser.weights, contours_start=0, contours_end=1.8e6, contours_size=1e5))\n",
    "using PlotlyJS\n",
    "#PlotlyJS.plot(PlotlyJS.contour(y=λaxe,x=daxe,z=hlaser.weights))\n",
    "PlotlyJS.plot(PlotlyJS.contour(x=λaxe,y=daxe,z=hlaserc.weights,contours_start=0, contours_end=1.2e6, contours_size=5e4))"
   ]
  },
  {
   "cell_type": "code",
   "execution_count": null,
   "metadata": {},
   "outputs": [],
   "source": [
    "PlotlyJS.plot(PlotlyJS.contour(x=λaxe,y=daxe,z=hflatc.weights,contours_start=0, contours_end=6e6, contours_size=1e5))"
   ]
  },
  {
   "cell_type": "code",
   "execution_count": null,
   "metadata": {},
   "outputs": [],
   "source": []
  }
 ],
 "metadata": {
  "kernelspec": {
   "display_name": "Julia 1.9.2",
   "language": "julia",
   "name": "julia-1.9"
  },
  "language_info": {
   "file_extension": ".jl",
   "mimetype": "application/julia",
   "name": "julia",
   "version": "1.9.2"
  }
 },
 "nbformat": 4,
 "nbformat_minor": 4
}
